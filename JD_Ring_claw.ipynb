{
 "cells": [
  {
   "cell_type": "code",
   "execution_count": 5,
   "metadata": {},
   "outputs": [],
   "source": [
    "import requests\n",
    "from lxml import etree\n",
    "import time\n",
    "import csv\n",
    "\n",
    "\n",
    "\n",
    "#定义函数抓取每页前300条商品信息\n",
    "for n in range(1,300):\n",
    "    #构造每一页的url变化 \n",
    "    url=  \"https://search.jd.com/search?keyword=%E6%89%8B%E7%8E%AF&enc=utf-8&qrst=1&rt=1&stop=1&vt=2&suggest=1.his.0.0&psort=3&page=\"+str(n)+\"&s=1&click=0\"\n",
    "    head = {\n",
    "           'authority': 'search.jd.com',\n",
    "            'method': 'GET',\n",
    "            'path': '/s_new.php?keyword=%E6%89%8B%E6%9C%BA&enc=utf-8&qrst=1&rt=1&stop=1&vt=2&wq=%E6%89%8B%E6%9C%BA&cid2=653&cid3=655&page=4&s=84&scrolling=y&log_id=1529828108.22071&tpl=3_M&show_items=7651927,7367120,7056868,7419252,6001239,5934182,4554969,3893501,7421462,6577495,26480543553,7345757,4483120,6176077,6932795,7336429,5963066,5283387,25722468892,7425622,4768461',\n",
    "            'scheme': 'https',\n",
    "            'referer': 'https://search.jd.com/Search?keyword=%E6%89%8B%E7%8E%AF&enc=utf-8&wq=%E6%89%8B%E7%8E%AF&pvid=51f48e64a0e24c80b8732f2dc19810e5',\n",
    "            'user-agent': 'Mozilla/5.0 (Windows NT 6.1; Win64; x64) AppleWebKit/537.36 (KHTML, like Gecko) Chrome/66.0.3359.139 Safari/537.36',\n",
    "            'x-requested-with': 'XMLHttpRequest',\n",
    "            'Cookie':'qrsc=3; pinId=RAGa4xMoVrs; xtest=1210.cf6b6759; ipLocation=%u5E7F%u4E1C; _jrda=5; TrackID=1aUdbc9HHS2MdEzabuYEyED1iDJaLWwBAfGBfyIHJZCLWKfWaB_KHKIMX9Vj9_2wUakxuSLAO9AFtB2U0SsAD-mXIh5rIfuDiSHSNhZcsJvg; shshshfpa=17943c91-d534-104f-a035-6e1719740bb6-1525571955; shshshfpb=2f200f7c5265e4af999b95b20d90e6618559f7251020a80ea1aee61500; cn=0; 3AB9D23F7A4B3C9B=QFOFIDQSIC7TZDQ7U4RPNYNFQN7S26SFCQQGTC3YU5UZQJZUBNPEXMX7O3R7SIRBTTJ72AXC4S3IJ46ESBLTNHD37U; ipLoc-djd=19-1607-3638-3638.608841570; __jdu=930036140; user-key=31a7628c-a9b2-44b0-8147-f10a9e597d6f; areaId=19; __jdv=122270672|direct|-|none|-|1529893590075; PCSYCityID=25; mt_xid=V2_52007VwsQU1xaVVoaSClUA2YLEAdbWk5YSk9MQAA0BBZOVQ0ADwNLGlUAZwQXVQpaAlkvShhcDHsCFU5eXENaGkIZWg5nAyJQbVhiWR9BGlUNZwoWYl1dVF0%3D; __jdc=122270672; shshshfp=72ec41b59960ea9a26956307465948f6; rkv=V0700; __jda=122270672.930036140.-.1529979524.1529984840.85; __jdb=122270672.1.930036140|85.1529984840; shshshsID=f797fbad20f4e576e9c30d1c381ecbb1_1_1529984840145'\n",
    "            }\n",
    "\n",
    "    r = requests.get(url, headers=head)\n",
    "\n",
    "    #指定编码方式，不然会出现乱码\n",
    "    r.encoding='utf-8'\n",
    "    html1 = etree.HTML(r.text)\n",
    "\n",
    "     #定位到每一个商品标签li\n",
    "    datas = html1.xpath('//li[contains(@class,\"gl-item\")]')\n",
    "    with open ('JD_shouhuan_top2000_by_xiaoliang.csv','a',newline='',encoding='utf-8')as f:\n",
    "        write=csv.writer(f)        \n",
    "        for data in datas:\n",
    "            p_name = data.xpath('div/div[@class=\"p-name p-name-type-2\"]/a/em/text()')[0]\n",
    "            p_price = data.xpath('div/div[@class=\"p-price\"]/strong/i/text()')\n",
    "            p_shop = data.xpath('div/div[@class=\"p-shop\"]/span/a/text()')\n",
    "            p_url = data.xpath('div/div[@class=\"p-img\"]/a/@href')\n",
    "            p_commit = data.xpath('div/div/a/@title/text()')\n",
    "           #定位不到，返回是[]空值，暂时不知原因，待分析\n",
    "            #print(p_name,p_price,p_shop,p_url,p_commit)\n",
    "            write.writerow([p_name,p_price,p_shop,p_url,p_commit])\n",
    "\n",
    "    f.close()\n",
    "\n"
   ]
  },
  {
   "cell_type": "code",
   "execution_count": null,
   "metadata": {},
   "outputs": [],
   "source": []
  }
 ],
 "metadata": {
  "kernelspec": {
   "display_name": "Python 3",
   "language": "python",
   "name": "python3"
  },
  "language_info": {
   "codemirror_mode": {
    "name": "ipython",
    "version": 3
   },
   "file_extension": ".py",
   "mimetype": "text/x-python",
   "name": "python",
   "nbconvert_exporter": "python",
   "pygments_lexer": "ipython3",
   "version": "3.7.3"
  }
 },
 "nbformat": 4,
 "nbformat_minor": 2
}
