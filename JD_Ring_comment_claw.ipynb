{
 "cells": [
  {
   "cell_type": "markdown",
   "metadata": {},
   "source": [
    "### 小米手环差评"
   ]
  },
  {
   "cell_type": "code",
   "execution_count": null,
   "metadata": {},
   "outputs": [],
   "source": [
    "import requests\n",
    "import json\n",
    "import pandas as pd\n",
    "import time\n",
    "import csv\n",
    "\n",
    "\n",
    "for i in range(100):\n",
    "\n",
    "    url=  \"https://sclub.jd.com/comment/productPageComments.action?callback=fetchJSON_comment98vv26714&productId=100006188596&score=1&sortType=5&page=\"+str(i)+\"&pageSize=10&isShadowSku=0&fold=1\"\n",
    "    head = {\n",
    "           'authority': 'search.jd.com',\n",
    "            'method': 'GET',\n",
    "            'path': '/s_new.php?keyword=%E6%89%8B%E6%9C%BA&enc=utf-8&qrst=1&rt=1&stop=1&vt=2&wq=%E6%89%8B%E6%9C%BA&cid2=653&cid3=655&page=4&s=84&scrolling=y&log_id=1529828108.22071&tpl=3_M&show_items=7651927,7367120,7056868,7419252,6001239,5934182,4554969,3893501,7421462,6577495,26480543553,7345757,4483120,6176077,6932795,7336429,5963066,5283387,25722468892,7425622,4768461',\n",
    "            'scheme': 'https',\n",
    "            'referer': 'https://search.jd.com/Search?keyword=%E6%89%8B%E7%8E%AF&enc=utf-8&wq=%E6%89%8B%E7%8E%AF&pvid=51f48e64a0e24c80b8732f2dc19810e5',\n",
    "            'user-agent': 'Mozilla/5.0 (Windows NT 6.1; Win64; x64) AppleWebKit/537.36 (KHTML, like Gecko) Chrome/66.0.3359.139 Safari/537.36',\n",
    "            'x-requested-with': 'XMLHttpRequest',\n",
    "            'Cookie':'qrsc=3; pinId=RAGa4xMoVrs; xtest=1210.cf6b6759; ipLocation=%u5E7F%u4E1C; _jrda=5; TrackID=1aUdbc9HHS2MdEzabuYEyED1iDJaLWwBAfGBfyIHJZCLWKfWaB_KHKIMX9Vj9_2wUakxuSLAO9AFtB2U0SsAD-mXIh5rIfuDiSHSNhZcsJvg; shshshfpa=17943c91-d534-104f-a035-6e1719740bb6-1525571955; shshshfpb=2f200f7c5265e4af999b95b20d90e6618559f7251020a80ea1aee61500; cn=0; 3AB9D23F7A4B3C9B=QFOFIDQSIC7TZDQ7U4RPNYNFQN7S26SFCQQGTC3YU5UZQJZUBNPEXMX7O3R7SIRBTTJ72AXC4S3IJ46ESBLTNHD37U; ipLoc-djd=19-1607-3638-3638.608841570; __jdu=930036140; user-key=31a7628c-a9b2-44b0-8147-f10a9e597d6f; areaId=19; __jdv=122270672|direct|-|none|-|1529893590075; PCSYCityID=25; mt_xid=V2_52007VwsQU1xaVVoaSClUA2YLEAdbWk5YSk9MQAA0BBZOVQ0ADwNLGlUAZwQXVQpaAlkvShhcDHsCFU5eXENaGkIZWg5nAyJQbVhiWR9BGlUNZwoWYl1dVF0%3D; __jdc=122270672; shshshfp=72ec41b59960ea9a26956307465948f6; rkv=V0700; __jda=122270672.930036140.-.1529979524.1529984840.85; __jdb=122270672.1.930036140|85.1529984840; shshshsID=f797fbad20f4e576e9c30d1c381ecbb1_1_1529984840145'\n",
    "            }\n",
    "    time.sleep(1)\n",
    "\n",
    "\n",
    "    req = requests.get(url, headers=head)\n",
    "    the_page = req.text\n",
    "    the_page_json = the_page[27:-2]\n",
    "    comments = json.loads(the_page_json).get(\"comments\")\n",
    "    for cont in comments:\n",
    "        contents = cont.get(\"content\")\n",
    "        output = open(\"comments_chaping_xiaomi_4代_169.csv\",\"a\",)\n",
    "        output.write(contents +\"\\n\")\n",
    "        \n",
    "output.close()\n"
   ]
  },
  {
   "cell_type": "markdown",
   "metadata": {},
   "source": [
    "### 小米手环好评"
   ]
  },
  {
   "cell_type": "code",
   "execution_count": 133,
   "metadata": {},
   "outputs": [],
   "source": [
    "import requests\n",
    "import json\n",
    "import pandas as pd\n",
    "import time\n",
    "import csv\n",
    "\n",
    "\n",
    "for i in range(100):\n",
    "\n",
    "    url=  \"https://sclub.jd.com/comment/productPageComments.action?callback=fetchJSON_comment98vv26714&productId=100006188596&score=3&sortType=5&page=\"+str(i)+\"&pageSize=10&isShadowSku=0&fold=1\"\n",
    "    head = {\n",
    "           'authority': 'search.jd.com',\n",
    "            'method': 'GET',\n",
    "            'path': '/s_new.php?keyword=%E6%89%8B%E6%9C%BA&enc=utf-8&qrst=1&rt=1&stop=1&vt=2&wq=%E6%89%8B%E6%9C%BA&cid2=653&cid3=655&page=4&s=84&scrolling=y&log_id=1529828108.22071&tpl=3_M&show_items=7651927,7367120,7056868,7419252,6001239,5934182,4554969,3893501,7421462,6577495,26480543553,7345757,4483120,6176077,6932795,7336429,5963066,5283387,25722468892,7425622,4768461',\n",
    "            'scheme': 'https',\n",
    "            'referer': 'https://search.jd.com/Search?keyword=%E6%89%8B%E7%8E%AF&enc=utf-8&wq=%E6%89%8B%E7%8E%AF&pvid=51f48e64a0e24c80b8732f2dc19810e5',\n",
    "            'user-agent': 'Mozilla/5.0 (Windows NT 6.1; Win64; x64) AppleWebKit/537.36 (KHTML, like Gecko) Chrome/66.0.3359.139 Safari/537.36',\n",
    "            'x-requested-with': 'XMLHttpRequest',\n",
    "            'Cookie':'qrsc=3; pinId=RAGa4xMoVrs; xtest=1210.cf6b6759; ipLocation=%u5E7F%u4E1C; _jrda=5; TrackID=1aUdbc9HHS2MdEzabuYEyED1iDJaLWwBAfGBfyIHJZCLWKfWaB_KHKIMX9Vj9_2wUakxuSLAO9AFtB2U0SsAD-mXIh5rIfuDiSHSNhZcsJvg; shshshfpa=17943c91-d534-104f-a035-6e1719740bb6-1525571955; shshshfpb=2f200f7c5265e4af999b95b20d90e6618559f7251020a80ea1aee61500; cn=0; 3AB9D23F7A4B3C9B=QFOFIDQSIC7TZDQ7U4RPNYNFQN7S26SFCQQGTC3YU5UZQJZUBNPEXMX7O3R7SIRBTTJ72AXC4S3IJ46ESBLTNHD37U; ipLoc-djd=19-1607-3638-3638.608841570; __jdu=930036140; user-key=31a7628c-a9b2-44b0-8147-f10a9e597d6f; areaId=19; __jdv=122270672|direct|-|none|-|1529893590075; PCSYCityID=25; mt_xid=V2_52007VwsQU1xaVVoaSClUA2YLEAdbWk5YSk9MQAA0BBZOVQ0ADwNLGlUAZwQXVQpaAlkvShhcDHsCFU5eXENaGkIZWg5nAyJQbVhiWR9BGlUNZwoWYl1dVF0%3D; __jdc=122270672; shshshfp=72ec41b59960ea9a26956307465948f6; rkv=V0700; __jda=122270672.930036140.-.1529979524.1529984840.85; __jdb=122270672.1.930036140|85.1529984840; shshshsID=f797fbad20f4e576e9c30d1c381ecbb1_1_1529984840145'\n",
    "            }\n",
    "    time.sleep(1)\n",
    "\n",
    "\n",
    "    req = requests.get(url, headers=head)\n",
    "    the_page = req.text\n",
    "    the_page_json = the_page[27:-2]\n",
    "    comments = json.loads(the_page_json).get(\"comments\")\n",
    "    for cont in comments:\n",
    "        contents = cont.get(\"content\")\n",
    "        output = open(\"comments_haoping_xiaomi_4代_169.csv\",\"a\",)\n",
    "        output.write(contents +\"\\n\")\n",
    "        \n",
    "output.close()"
   ]
  },
  {
   "cell_type": "markdown",
   "metadata": {},
   "source": [
    "### 华为B5手环差评"
   ]
  },
  {
   "cell_type": "code",
   "execution_count": 131,
   "metadata": {},
   "outputs": [],
   "source": [
    "for i in range(100):\n",
    "\n",
    "    url=  \"https://sclub.jd.com/comment/productPageComments.action?callback=fetchJSON_comment98vv1077&productId=100006360444&score=1&sortType=5&page=\"+str(i)+\"&pageSize=10&isShadowSku=0&fold=1\"\n",
    "    head = {\n",
    "           'authority': 'search.jd.com',\n",
    "            'method': 'GET',\n",
    "            'path': '/s_new.php?keyword=%E6%89%8B%E6%9C%BA&enc=utf-8&qrst=1&rt=1&stop=1&vt=2&wq=%E6%89%8B%E6%9C%BA&cid2=653&cid3=655&page=4&s=84&scrolling=y&log_id=1529828108.22071&tpl=3_M&show_items=7651927,7367120,7056868,7419252,6001239,5934182,4554969,3893501,7421462,6577495,26480543553,7345757,4483120,6176077,6932795,7336429,5963066,5283387,25722468892,7425622,4768461',\n",
    "            'scheme': 'https',\n",
    "            'referer': 'https://search.jd.com/Search?keyword=%E6%89%8B%E7%8E%AF&enc=utf-8&wq=%E6%89%8B%E7%8E%AF&pvid=51f48e64a0e24c80b8732f2dc19810e5',\n",
    "            'user-agent': 'Mozilla/5.0 (Windows NT 6.1; Win64; x64) AppleWebKit/537.36 (KHTML, like Gecko) Chrome/66.0.3359.139 Safari/537.36',\n",
    "            'x-requested-with': 'XMLHttpRequest',\n",
    "            'Cookie':'qrsc=3; pinId=RAGa4xMoVrs; xtest=1210.cf6b6759; ipLocation=%u5E7F%u4E1C; _jrda=5; TrackID=1aUdbc9HHS2MdEzabuYEyED1iDJaLWwBAfGBfyIHJZCLWKfWaB_KHKIMX9Vj9_2wUakxuSLAO9AFtB2U0SsAD-mXIh5rIfuDiSHSNhZcsJvg; shshshfpa=17943c91-d534-104f-a035-6e1719740bb6-1525571955; shshshfpb=2f200f7c5265e4af999b95b20d90e6618559f7251020a80ea1aee61500; cn=0; 3AB9D23F7A4B3C9B=QFOFIDQSIC7TZDQ7U4RPNYNFQN7S26SFCQQGTC3YU5UZQJZUBNPEXMX7O3R7SIRBTTJ72AXC4S3IJ46ESBLTNHD37U; ipLoc-djd=19-1607-3638-3638.608841570; __jdu=930036140; user-key=31a7628c-a9b2-44b0-8147-f10a9e597d6f; areaId=19; __jdv=122270672|direct|-|none|-|1529893590075; PCSYCityID=25; mt_xid=V2_52007VwsQU1xaVVoaSClUA2YLEAdbWk5YSk9MQAA0BBZOVQ0ADwNLGlUAZwQXVQpaAlkvShhcDHsCFU5eXENaGkIZWg5nAyJQbVhiWR9BGlUNZwoWYl1dVF0%3D; __jdc=122270672; shshshfp=72ec41b59960ea9a26956307465948f6; rkv=V0700; __jda=122270672.930036140.-.1529979524.1529984840.85; __jdb=122270672.1.930036140|85.1529984840; shshshsID=f797fbad20f4e576e9c30d1c381ecbb1_1_1529984840145'\n",
    "            }\n",
    "    time.sleep(1)\n",
    "\n",
    "\n",
    "    req = requests.get(url, headers=head)\n",
    "    the_page = req.text\n",
    "    the_page_json = the_page[26:-2]\n",
    "\n",
    "    comments = json.loads(the_page_json).get(\"comments\")\n",
    "    \n",
    "    for cont in comments:\n",
    "        contents = cont.get(\"content\")\n",
    "        creationTime = cont.get(\"creationTime\")\n",
    "        output = open(\"comments_chaping_huawei_B5_999.csv\",\"a\",)\n",
    "        output.write(contents + creationTime +\"\\n\")\n",
    "        \n",
    "output.close()"
   ]
  },
  {
   "cell_type": "markdown",
   "metadata": {},
   "source": [
    "### 华为手环B5好评"
   ]
  },
  {
   "cell_type": "code",
   "execution_count": 132,
   "metadata": {},
   "outputs": [],
   "source": [
    "for i in range(100):\n",
    "\n",
    "    url=  \"https://sclub.jd.com/comment/productPageComments.action?callback=fetchJSON_comment98vv1077&productId=100006360444&score=3&sortType=5&page=\"+str(i)+\"&pageSize=10&isShadowSku=0&fold=1\"\n",
    "    head = {\n",
    "           'authority': 'search.jd.com',\n",
    "            'method': 'GET',\n",
    "            'path': '/s_new.php?keyword=%E6%89%8B%E6%9C%BA&enc=utf-8&qrst=1&rt=1&stop=1&vt=2&wq=%E6%89%8B%E6%9C%BA&cid2=653&cid3=655&page=4&s=84&scrolling=y&log_id=1529828108.22071&tpl=3_M&show_items=7651927,7367120,7056868,7419252,6001239,5934182,4554969,3893501,7421462,6577495,26480543553,7345757,4483120,6176077,6932795,7336429,5963066,5283387,25722468892,7425622,4768461',\n",
    "            'scheme': 'https',\n",
    "            'referer': 'https://search.jd.com/Search?keyword=%E6%89%8B%E7%8E%AF&enc=utf-8&wq=%E6%89%8B%E7%8E%AF&pvid=51f48e64a0e24c80b8732f2dc19810e5',\n",
    "            'user-agent': 'Mozilla/5.0 (Windows NT 6.1; Win64; x64) AppleWebKit/537.36 (KHTML, like Gecko) Chrome/66.0.3359.139 Safari/537.36',\n",
    "            'x-requested-with': 'XMLHttpRequest',\n",
    "            'Cookie':'qrsc=3; pinId=RAGa4xMoVrs; xtest=1210.cf6b6759; ipLocation=%u5E7F%u4E1C; _jrda=5; TrackID=1aUdbc9HHS2MdEzabuYEyED1iDJaLWwBAfGBfyIHJZCLWKfWaB_KHKIMX9Vj9_2wUakxuSLAO9AFtB2U0SsAD-mXIh5rIfuDiSHSNhZcsJvg; shshshfpa=17943c91-d534-104f-a035-6e1719740bb6-1525571955; shshshfpb=2f200f7c5265e4af999b95b20d90e6618559f7251020a80ea1aee61500; cn=0; 3AB9D23F7A4B3C9B=QFOFIDQSIC7TZDQ7U4RPNYNFQN7S26SFCQQGTC3YU5UZQJZUBNPEXMX7O3R7SIRBTTJ72AXC4S3IJ46ESBLTNHD37U; ipLoc-djd=19-1607-3638-3638.608841570; __jdu=930036140; user-key=31a7628c-a9b2-44b0-8147-f10a9e597d6f; areaId=19; __jdv=122270672|direct|-|none|-|1529893590075; PCSYCityID=25; mt_xid=V2_52007VwsQU1xaVVoaSClUA2YLEAdbWk5YSk9MQAA0BBZOVQ0ADwNLGlUAZwQXVQpaAlkvShhcDHsCFU5eXENaGkIZWg5nAyJQbVhiWR9BGlUNZwoWYl1dVF0%3D; __jdc=122270672; shshshfp=72ec41b59960ea9a26956307465948f6; rkv=V0700; __jda=122270672.930036140.-.1529979524.1529984840.85; __jdb=122270672.1.930036140|85.1529984840; shshshsID=f797fbad20f4e576e9c30d1c381ecbb1_1_1529984840145'\n",
    "            }\n",
    "    time.sleep(1)\n",
    "\n",
    "\n",
    "    req = requests.get(url, headers=head)\n",
    "    the_page = req.text\n",
    "    the_page_json = the_page[26:-2]\n",
    "\n",
    "    comments = json.loads(the_page_json).get(\"comments\")\n",
    "    \n",
    "    for cont in comments:\n",
    "        contents = cont.get(\"content\")\n",
    "        creationTime = cont.get(\"creationTime\")\n",
    "        output = open(\"comments_haoping_huawei_B5_999.csv\",\"a\",)\n",
    "        output.write(contents + creationTime +\"\\n\")\n",
    "        \n",
    "output.close()"
   ]
  },
  {
   "cell_type": "code",
   "execution_count": null,
   "metadata": {},
   "outputs": [],
   "source": []
  },
  {
   "cell_type": "markdown",
   "metadata": {},
   "source": [
    "### 以下是调试过程"
   ]
  },
  {
   "cell_type": "code",
   "execution_count": 114,
   "metadata": {},
   "outputs": [
    {
     "name": "stdout",
     "output_type": "stream",
     "text": [
      "快递挺快的，手环一个电都没\n",
      "皮带会导致皮肤过敏\n",
      "挺不错的，活动时候干优惠买的实惠也耐用\n",
      "皮带导致过敏，红肿蜕皮！\n",
      "这个手环连空气都可以测心率！\n",
      "2019年依然坚持坐车计步呢\n",
      "App都没做好\n",
      "东西还是不错的，活动的时候买的。\n",
      "显示监管俩字是什么意思\n",
      "这是外观是全新的？一流品质！！\n"
     ]
    }
   ],
   "source": [
    "the_page_json = the_page[27:-2]\n",
    "comments = json.loads(the_page_json).get(\"comments\")\n",
    "for cont in comments:\n",
    "    contents = cont.get(\"content\")\n",
    "    print(contents)"
   ]
  },
  {
   "cell_type": "code",
   "execution_count": 102,
   "metadata": {},
   "outputs": [
    {
     "data": {
      "text/plain": [
       "'{\"productAttr\":null,\"productCommentSummary\":{\"skuId\":100006188596,\"averageScore\":5,\"defaultGoodCount\":283733,\"defaultGoodCountStr\":\"28万+\",\"commentCount\":380110,\"commentCountStr\":\"38万+\",\"goodCount\":94919,\"goodCountStr\":\"9.4万+\",\"goodRate\":0.98,\"goodRateShow\":98,\"generalCount\":774,\"generalCountStr\":\"700+\",\"generalRate\":0.013,\"generalRateShow\":1,\"poorCount\":684,\"poorCountStr\":\"600+\",\"poorRate\":0.0070,\"poorRateShow\":1,\"videoCount\":1967,\"videoCountStr\":\"1900+\",\"afterCount\":1486,\"afterCountStr\":\"1400+\",\"showCount\":15958,\"showCountStr\":\"1.5万+\",\"oneYear\":0,\"sensitiveBook\":0,\"fixCount\":0,\"plusCount\":0,\"plusCountStr\":\"0\",\"buyerShow\":0,\"poorRateStyle\":1,\"generalRateStyle\":2,\"goodRateStyle\":147,\"productId\":100006188596,\"score1Count\":684,\"score2Count\":235,\"score3Count\":539,\"score4Count\":1167,\"score5Count\":93752},\"hotCommentTagStatistics\":[{\"id\":\"be4c76ce01b83386\",\"name\":\"简单方便\",\"count\":1748,\"type\":4,\"canBeFiltered\":true,\"stand\":1,\"rid\":\"be4c76ce01b83386\",\"ckeKeyWordBury\":\"eid=100^^tagid=be4c76ce01b83386^^pid=20004^^sku=100006188596^^sversion=1000^^token=6126d602d1bd35e0\"},{\"id\":\"d0fcfbb03e589d31\",\"name\":\"功能丰富\",\"count\":1505,\"type\":4,\"canBeFiltered\":true,\"stand\":1,\"rid\":\"d0fcfbb03e589d31\",\"ckeKeyWordBury\":\"eid=100^^tagid=d0fcfbb03e589d31^^pid=20004^^sku=100006188596^^sversion=1000^^token=2e676a8fe461c45f\"},{\"id\":\"f73ff8a67080d06d\",\"name\":\"十分舒服\",\"count\":976,\"type\":4,\"canBeFiltered\":true,\"stand\":1,\"rid\":\"f73ff8a67080d06d\",\"ckeKeyWordBury\":\"eid=100^^tagid=f73ff8a67080d06d^^pid=20004^^sku=100006188596^^sversion=1000^^token=0be362a46eaf8c49\"},{\"id\":\"0c125ea5ae9c4bcf\",\"name\":\"十分漂亮\",\"count\":891,\"type\":4,\"canBeFiltered\":true,\"stand\":1,\"rid\":\"0c125ea5ae9c4bcf\",\"ckeKeyWordBury\":\"eid=100^^tagid=0c125ea5ae9c4bcf^^pid=20004^^sku=100006188596^^sversion=1000^^token=f91d7f5cc05854dd\"},{\"id\":\"a64d7fe6837bc0cf\",\"name\":\"功能强大\",\"count\":843,\"type\":4,\"canBeFiltered\":true,\"stand\":1,\"rid\":\"a64d7fe6837bc0cf\",\"ckeKeyWordBury\":\"eid=100^^tagid=a64d7fe6837bc0cf^^pid=20004^^sku=100006188596^^sversion=1000^^token=8cce013b651e2b43\"},{\"id\":\"47f0dc0822bc1047\",\"name\":\"新鲜感十足\",\"count\":737,\"type\":4,\"canBeFiltered\":true,\"stand\":1,\"rid\":\"47f0dc0822bc1047\",\"ckeKeyWordBury\":\"eid=100^^tagid=47f0dc0822bc1047^^pid=20004^^sku=100006188596^^sversion=1000^^token=39edc0d065fd6bdb\"},{\"id\":\"2a2422ee9d1f7dfc\",\"name\":\"反应灵敏\",\"count\":548,\"type\":4,\"canBeFiltered\":true,\"stand\":1,\"rid\":\"2a2422ee9d1f7dfc\",\"ckeKeyWordBury\":\"eid=100^^tagid=2a2422ee9d1f7dfc^^pid=20004^^sku=100006188596^^sversion=1000^^token=5450cf28b3468833\"},{\"id\":\"2f38e57432c94c2f\",\"name\":\"佩戴舒适\",\"count\":393,\"type\":4,\"canBeFiltered\":true,\"stand\":1,\"rid\":\"2f38e57432c94c2f\",\"ckeKeyWordBury\":\"eid=100^^tagid=2f38e57432c94c2f^^pid=20004^^sku=100006188596^^sversion=1000^^token=ca9e5aee0f00c5f3\"},{\"id\":\"e62bf087db98fc82\",\"name\":\"结实耐用\",\"count\":306,\"type\":4,\"canBeFiltered\":true,\"stand\":1,\"rid\":\"e62bf087db98fc82\",\"ckeKeyWordBury\":\"eid=100^^tagid=e62bf087db98fc82^^pid=20004^^sku=100006188596^^sversion=1000^^token=09200474d6106410\"},{\"id\":\"80ff2c05146c01bf\",\"name\":\"色彩艳丽\",\"count\":228,\"type\":4,\"canBeFiltered\":true,\"stand\":1,\"rid\":\"80ff2c05146c01bf\",\"ckeKeyWordBury\":\"eid=100^^tagid=80ff2c05146c01bf^^pid=20004^^sku=100006188596^^sversion=1000^^token=992d7981eafcd5c1\"},{\"id\":\"f8952a488a11ced2\",\"name\":\"做工精细\",\"count\":99,\"type\":4,\"canBeFiltered\":true,\"stand\":1,\"rid\":\"f8952a488a11ced2\",\"ckeKeyWordBury\":\"eid=100^^tagid=f8952a488a11ced2^^pid=20004^^sku=100006188596^^sversion=1000^^token=a6be929a186b8f90\"},{\"id\":\"c734d48bdd216ea8\",\"name\":\"流畅度高\",\"count\":74,\"type\":4,\"canBeFiltered\":true,\"stand\":1,\"rid\":\"c734d48bdd216ea8\",\"ckeKeyWordBury\":\"eid=100^^tagid=c734d48bdd216ea8^^pid=20004^^sku=100006188596^^sversion=1000^^token=1e5adf382e120be6\"}],\"jwotestProduct\":null,\"maxPage\":60,\"testId\":\"cmt\",\"score\":1,\"soType\":5,\"imageListCount\":500,\"vTagStatistics\":null,\"csv\":\"eid=100^^tagid=BAD^^pid=20004^^sku=100006188596^^sversion=1001^^pageSize=1\",\"comments\":[{\"id\":13282300838,\"guid\":\"0382ee80-3034-4f01-ba17-07aa967be13a\",\"content\":\"快递挺快的，手环一个电都没\",\"vcontent\":\"\",\"creationTime\":\"2019-10-01 08:57:56\",\"isDelete\":false,\"isTop\":false,\"userImageUrl\":\"misc.360buyimg.com/user/myjd-2015/css/i/peisong.jpg\",\"topped\":0,\"replies\":[{\"id\":521315557,\"commentId\":13282300838,\"content\":\"亲爱的米粉，我们的产品均为全新未拆封官方正品，享受正规三包服务哦。我们的产品在出厂时都是经过严格质量检查流程，确保品质的。咱们的产品从选材到工艺都是非常优秀的，请您细细体会，您会发现不一样的美好哦。因生产批次的不同，手环在给您送去之前电量也是在自然的消耗的，建议您在使用之前将手环电量充满，小米手环4充满电时间大约充电需要约2小时。产品使用中如有疑问，建议您致电小米官方热线或访问小米供应商在线客服详细咨询，竭诚为您服务。感谢您对小米的支持，祝您生活愉快！\",\"pin\":\"小***能\",\"userClient\":103,\"userImage\":\"misc.360buyimg.com/user/myjd-2015/css/i/peisong.jpg\",\"ip\":\"120.195.56.79\",\"productId\":100006188596,\"replyList\":[],\"nickname\":\"小***能\",\"creationTime\":\"2019-10-01 15:52:50\",\"parentId\":0,\"targetId\":0,\"venderShopInfo\":{\"id\":1000004123,\"appName\":\"//mi.jd.com\",\"title\":\"小米京东自营旗舰店\",\"venderId\":1000004123}}],\"replyCount\":2,\"score\":1,\"title\":\"\",\"usefulVoteCount\":0,\"userClient\":4,\"anonymousFlag\":0,\"plusAvailable\":0,\"mobileVersion\":\"8.2.4\",\"productColor\":\"小米手环4 石墨黑\",\"productSize\":\"\",\"textIntegral\":40,\"status\":1,\"referenceId\":\"100006188596\",\"referenceTime\":\"2019-09-30 13:29:40\",\"nickname\":\"jd_133439voy\",\"replyCount2\":2,\"userImage\":\"misc.360buyimg.com/user/myjd-2015/css/i/peisong.jpg\",\"orderId\":0,\"integral\":40,\"productSales\":\"[]\",\"referenceImage\":\"jfs/t1/79831/15/9128/176682/5d6e7844E8179da21/75e94bc5a76e0ebc.jpg\",\"referenceName\":\"小米手环4石墨黑 AI彩屏心率运动手环游泳姿势识别50米防水6轴传感器24小时高精准心率监测\",\"firstCategory\":652,\"secondCategory\":12345,\"thirdCategory\":12347,\"aesPin\":\"GIoHEwjHdr-n-PlvDMm5lUZsRGKIRK72R-XTRIhQFqc5chfAbQ3_KZ5oxwOKDgmtrTxSt4W_i8pcmwBkvV7wUw\",\"days\":1,\"afterDays\":0},{\"id\":13258793583,\"guid\":\"b81b0cfc-8803-479f-8404-124f952f25ef\",\"content\":\"皮带会导致皮肤过敏\",\"vcontent\":\"\",\"creationTime\":\"2019-09-24 12:13:43\",\"isDelete\":false,\"isTop\":false,\"userImageUrl\":\"misc.360buyimg.com/user/myjd-2015/css/i/peisong.jpg\",\"topped\":0,\"replies\":[{\"id\":518814354,\"commentId\":13258793583,\"content\":\"亲爱的米粉，非常抱歉给您带来不便。我们的产品均为全新未拆封官方正品，享受正规三包服务哦。我们的产品在出厂时都是经过严格质量检查流程，确保品质的。本产品通过生物相容性测试及有害物质测试，符合国标GB/T 26572规定的限量要求，如有疑似过敏问题建议佩戴腕带宽松、注意保持腕带清洁，以免杂物导致疑似过敏等问题。如果皮肤泛红或不适，建议您取下设备。如果取下设备后，症状超过2-3天仍未缓解，请联系皮肤病医师。产品使用中如有疑问，建议您致电小米官方热线或访问小米供应商在线客服详细咨询，竭诚为您服务。感谢您对小米的支持，祝您生活愉快！\",\"pin\":\"小***能\",\"userClient\":103,\"userImage\":\"misc.360buyimg.com/user/myjd-2015/css/i/peisong.jpg\",\"ip\":\"120.195.56.79\",\"productId\":100006188596,\"replyList\":[],\"nickname\":\"小***能\",\"creationTime\":\"2019-09-24 14:01:30\",\"parentId\":0,\"targetId\":0,\"venderShopInfo\":{\"id\":1000004123,\"appName\":\"//mi.jd.com\",\"title\":\"小米京东自营旗舰店\",\"venderId\":1000004123}}],\"replyCount\":2,\"score\":1,\"imageStatus\":1,\"title\":\"\",\"usefulVoteCount\":0,\"userClient\":4,\"discussionId\":605851317,\"imageCount\":1,\"anonymousFlag\":0,\"plusAvailable\":0,\"mobileVersion\":\"8.2.7\",\"images\":[{\"id\":942342250,\"imgUrl\":\"//img30.360buyimg.com/n0/s128x96_jfs/t1/57224/24/11522/104692/5d8997f7E6a3055ab/6dd51fba0632ab5e.jpg\",\"imgTitle\":\"\"}],\"mergeOrderStatus\":2,\"productColor\":\"小米手环4 石墨黑\",\"productSize\":\"\",\"textIntegral\":0,\"imageIntegral\":20,\"status\":1,\"referenceId\":\"100006188596\",\"referenceTime\":\"2019-09-19 23:40:43\",\"nickname\":\"ld155*****318\",\"replyCount2\":2,\"userImage\":\"misc.360buyimg.com/user/myjd-2015/css/i/peisong.jpg\",\"orderId\":0,\"integral\":20,\"productSales\":\"[]\",\"referenceImage\":\"jfs/t1/79831/15/9128/176682/5d6e7844E8179da21/75e94bc5a76e0ebc.jpg\",\"referenceName\":\"小米手环4石墨黑 AI彩屏心率运动手环游泳姿势识别50米防水6轴传感器24小时高精准心率监测\",\"firstCategory\":652,\"secondCategory\":12345,\"thirdCategory\":12347,\"aesPin\":\"ZIzQdgVcGiXMaabJgduY0aRPciEvLzglFqO4L9aQnuk-an5-RjzKABe0Nf_4PioCNk6-JyTOnZP8ChRM57dO3w\",\"days\":5,\"afterDays\":0},{\"id\":13186647786,\"guid\":\"e7e91cdd-a9cf-4962-8e0a-5f4dda8a3d3c\",\"content\":\"挺不错的，活动时候干优惠买的实惠也耐用\",\"vcontent\":\"\",\"creationTime\":\"2019-09-04 00:57:45\",\"isDelete\":false,\"isTop\":false,\"userImageUrl\":\"storage.360buyimg.com/i.imageUpload/6a645f3731616134383138396435346131353431333530323133363832_sma.jpg\",\"topped\":0,\"replies\":[{\"id\":511321781,\"commentId\":13186647786,\"content\":\"亲爱的米粉，我们的产品均为全新未拆封官方正品，享受正规三包服务哦。我们的产品在出厂时都是经过严格质量检查流程，确保品质的。咱们的产品从选材到工艺都是非常优秀的，请您细细体会，您会发现不一样的美好哦。产品后期使用中如有疑问，建议您致电小米官方热线或访问小米供应商在线客服详细咨询，竭诚为您服务。感谢您对小米的支持，祝您生活愉快！\",\"pin\":\"小***能\",\"userClient\":103,\"userImage\":\"misc.360buyimg.com/user/myjd-2015/css/i/peisong.jpg\",\"ip\":\"120.195.56.79\",\"productId\":100006188596,\"replyList\":[],\"nickname\":\"小***能\",\"creationTime\":\"2019-09-04 14:21:14\",\"parentId\":0,\"targetId\":0,\"venderShopInfo\":{\"id\":1000004123,\"appName\":\"//mi.jd.com\",\"title\":\"小米京东自营旗舰店\",\"venderId\":1000004123}}],\"replyCount\":3,\"score\":1,\"title\":\"\",\"usefulVoteCount\":0,\"userClient\":4,\"anonymousFlag\":0,\"plusAvailable\":201,\"mobileVersion\":\"8.2.2\",\"productColor\":\"小米手环4 石墨黑\",\"productSize\":\"\",\"textIntegral\":20,\"status\":1,\"referenceId\":\"100006188596\",\"referenceTime\":\"2019-08-19 20:12:48\",\"nickname\":\"酷鹏鹏嗷嗷\",\"replyCount2\":3,\"userImage\":\"storage.360buyimg.com/i.imageUpload/6a645f3731616134383138396435346131353431333530323133363832_sma.jpg\",\"orderId\":0,\"integral\":20,\"productSales\":\"[]\",\"referenceImage\":\"jfs/t1/79831/15/9128/176682/5d6e7844E8179da21/75e94bc5a76e0ebc.jpg\",\"referenceName\":\"小米手环4石墨黑 AI彩屏心率运动手环游泳姿势识别50米防水6轴传感器24小时高精准心率监测\",\"firstCategory\":652,\"secondCategory\":12345,\"thirdCategory\":12347,\"aesPin\":\"VcfDtKG1hHJwRe8darcekwpgynFkHTS82r0mCC91Ko87EOKjqtOI6sZj-LprLcvv0R1bPARq5QzS5-_HQxm9dQ\",\"days\":16,\"afterDays\":0},{\"id\":13269258315,\"guid\":\"0ca00a41-6820-4cd1-8e23-69ff39998748\",\"content\":\"皮带导致过敏，红肿蜕皮！\",\"vcontent\":\"\",\"creationTime\":\"2019-09-27 10:46:19\",\"isDelete\":false,\"isTop\":false,\"userImageUrl\":\"storage.360buyimg.com/i.imageUpload/d0a1d7a3bde3bde3b4f8c4e3b7c931343833393637343934383939_sma.jpg\",\"topped\":0,\"replies\":[{\"id\":520018887,\"commentId\":13269258315,\"content\":\"亲爱的米粉，非常抱歉给您带来不便。我们的产品均为全新未拆封官方正品，享受正规三包服务哦。我们的产品在出厂时都是经过严格质量检查流程，确保品质的。小米手环佩戴情况下不会过敏，小米手环4系列通过了有害物质测试，符合国标GB/T 26572规定要求，同时也通过了生物相容性测试，但可能会有个别用户出现疑似过敏症状。产生疑似过敏症状的可能产生原因：1、佩戴过紧，不透气，压出印子后反复摩擦导致发红发痒；2、洗澡佩戴且长时间未清理，残留物堆积导致疑似过敏症状。产品后期使用中如有疑问，建议您致电小米官方热线或访问小米供应商在线客服详细咨询，竭诚为您服务。感谢您对小米的支持，祝您生活愉快！\",\"pin\":\"小***能\",\"userClient\":103,\"userImage\":\"misc.360buyimg.com/user/myjd-2015/css/i/peisong.jpg\",\"ip\":\"120.195.56.79\",\"productId\":100006188596,\"replyList\":[],\"nickname\":\"小***能\",\"creationTime\":\"2019-09-27 14:39:20\",\"parentId\":0,\"targetId\":0,\"venderShopInfo\":{\"id\":1000004123,\"appName\":\"//mi.jd.com\",\"title\":\"小米京东自营旗舰店\",\"venderId\":1000004123}}],\"replyCount\":1,\"score\":1,\"imageStatus\":1,\"title\":\"\",\"usefulVoteCount\":1,\"userClient\":2,\"discussionId\":607157969,\"imageCount\":2,\"anonymousFlag\":0,\"plusAvailable\":201,\"mobileVersion\":\"8.2.6\",\"images\":[{\"id\":944395238,\"imgUrl\":\"//img30.360buyimg.com/n0/s128x96_jfs/t1/61760/37/11587/143335/5d8d77faEfc265831/d3f8d8ebc9e1f06d.jpg\",\"imgTitle\":\"\"},{\"id\":944395239,\"imgUrl\":\"//img30.360buyimg.com/n0/s128x96_jfs/t1/67008/26/11474/185571/5d8d77fbE42e72ddb/2f74cfe7312dbe0c.jpg\",\"imgTitle\":\"\"}],\"mergeOrderStatus\":2,\"productColor\":\"小米手环4 石墨黑\",\"productSize\":\"\",\"textIntegral\":20,\"imageIntegral\":20,\"status\":1,\"referenceId\":\"100006188596\",\"referenceTime\":\"2019-08-30 08:12:23\",\"nickname\":\"小***飞\",\"replyCount2\":1,\"userImage\":\"storage.360buyimg.com/i.imageUpload/d0a1d7a3bde3bde3b4f8c4e3b7c931343833393637343934383939_sma.jpg\",\"orderId\":0,\"integral\":40,\"productSales\":\"[]\",\"referenceImage\":\"jfs/t1/79831/15/9128/176682/5d6e7844E8179da21/75e94bc5a76e0ebc.jpg\",\"referenceName\":\"小米手环4石墨黑 AI彩屏心率运动手环游泳姿势识别50米防水6轴传感器24小时高精准心率监测\",\"firstCategory\":652,\"secondCategory\":12345,\"thirdCategory\":12347,\"aesPin\":\"WZoN6WhmbmQWiAUp9oHfuNthqcWa1S8M1TZDq7Kx2kwX83WsESxnU3Zt0Yh1fKSPPQ3l9MGM0b9rUrDbZD5yrA\",\"days\":28,\"afterDays\":0},{\"id\":13257302158,\"guid\":\"a6af09b3-4bbc-4dad-bc89-ab0fcb39ac00\",\"content\":\"这个手环连空气都可以测心率！\",\"vcontent\":\"\",\"creationTime\":\"2019-09-23 22:22:35\",\"isDelete\":false,\"isTop\":false,\"userImageUrl\":\"storage.360buyimg.com/i.imageUpload/6a645f3638623636336234313364623631353538363030373238323631_sma.jpg\",\"topped\":0,\"replies\":[{\"id\":518817961,\"commentId\":13257302158,\"content\":\"亲爱滴米粉，我们销售的都是全新正品呢，享受正规三包服务呢。此问题建议您联系京东在线客服协助您申请售后检测处理，我们会尽力帮您解决的，另外请您放心呢，我们是有完善的售后政策的，您可以享受到相应的售后权益，产品后期使用中如有疑问，建议您致电小米官方热线或访问小米供应商在线客服详细咨询，竭诚为您服务。感谢您对小米的支持，祝您生活愉快！\",\"pin\":\"小***能\",\"userClient\":103,\"userImage\":\"misc.360buyimg.com/user/myjd-2015/css/i/peisong.jpg\",\"ip\":\"120.195.56.79\",\"productId\":100006188596,\"replyList\":[],\"nickname\":\"小***能\",\"creationTime\":\"2019-09-24 14:08:01\",\"parentId\":0,\"targetId\":0,\"venderShopInfo\":{\"id\":1000004123,\"appName\":\"//mi.jd.com\",\"title\":\"小米京东自营旗舰店\",\"venderId\":1000004123}}],\"replyCount\":2,\"score\":1,\"title\":\"\",\"usefulVoteCount\":5,\"userClient\":4,\"anonymousFlag\":0,\"plusAvailable\":0,\"mobileVersion\":\"8.2.7\",\"productColor\":\"小米手环4 石墨黑\",\"productSize\":\"\",\"textIntegral\":40,\"status\":1,\"referenceId\":\"100006188596\",\"referenceTime\":\"2019-09-22 00:13:18\",\"nickname\":\"开心果冻来一个\",\"replyCount2\":2,\"userImage\":\"storage.360buyimg.com/i.imageUpload/6a645f3638623636336234313364623631353538363030373238323631_sma.jpg\",\"orderId\":0,\"integral\":40,\"productSales\":\"[]\",\"referenceImage\":\"jfs/t1/79831/15/9128/176682/5d6e7844E8179da21/75e94bc5a76e0ebc.jpg\",\"referenceName\":\"小米手环4石墨黑 AI彩屏心率运动手环游泳姿势识别50米防水6轴传感器24小时高精准心率监测\",\"firstCategory\":652,\"secondCategory\":12345,\"thirdCategory\":12347,\"aesPin\":\"W-2Mlj1NHofoTIb3J7v0j02LlSYbxFhRzqO5eZLlaU7GjQ1XLAfGJDJ6xwka16JC83tTRlhmKjKeOXGZpmP20g\",\"days\":1,\"afterDays\":0},{\"id\":12901056840,\"guid\":\"7306e9d5-84be-4506-850b-91f725191d2d\",\"content\":\"2019年依然坚持坐车计步呢\",\"creationTime\":\"2019-06-17 16:01:21\",\"isDelete\":false,\"isTop\":false,\"userImageUrl\":\"storage.360buyimg.com/i.imageUpload/bafcc0eabefdb0b2bac331353533373736383932303135_sma.jpg\",\"topped\":0,\"replies\":[{\"id\":480305815,\"commentId\":12901056840,\"content\":\"亲爱的米粉，咱们的产品均为全新未拆封官方正品，享受正规三包服务哦。我们的产品在出厂时都是经过严格质量检查流程，确保品质的。为了更好更快地解答您所遇到的问题，产品使用如有疑问，建议您访问小米供应商在线客服详细咨询，竭诚为您服务。感谢您对小米的支持，祝您生活愉快！\",\"pin\":\"小***司\",\"userClient\":103,\"userImage\":\"misc.360buyimg.com/user/myjd-2015/css/i/peisong.jpg\",\"ip\":\"120.195.56.79\",\"productId\":100006188596,\"replyList\":[],\"nickname\":\"小***司\",\"creationTime\":\"2019-06-17 16:13:18\",\"parentId\":0,\"targetId\":0,\"venderShopInfo\":{\"id\":1000004123,\"appName\":\"//mi.jd.com\",\"title\":\"小米京东自营旗舰店\",\"venderId\":1000004123}}],\"replyCount\":21,\"score\":1,\"title\":\"\",\"usefulVoteCount\":79,\"userClient\":4,\"anonymousFlag\":1,\"plusAvailable\":201,\"mobileVersion\":\"8.0.2\",\"productColor\":\"小米手环4 石墨黑\",\"productSize\":\"\",\"textIntegral\":20,\"status\":1,\"referenceId\":\"100006188596\",\"referenceTime\":\"2019-06-14 10:00:03\",\"nickname\":\"郑***爱\",\"replyCount2\":29,\"userImage\":\"storage.360buyimg.com/i.imageUpload/bafcc0eabefdb0b2bac331353533373736383932303135_sma.jpg\",\"orderId\":0,\"integral\":20,\"productSales\":\"[]\",\"referenceImage\":\"jfs/t1/79831/15/9128/176682/5d6e7844E8179da21/75e94bc5a76e0ebc.jpg\",\"referenceName\":\"小米手环4石墨黑 AI彩屏心率运动手环游泳姿势识别50米防水6轴传感器24小时高精准心率监测\",\"firstCategory\":652,\"secondCategory\":12345,\"thirdCategory\":12347,\"aesPin\":null,\"days\":3,\"afterDays\":0},{\"id\":13281055337,\"guid\":\"7a862055-d700-4c46-b844-09b102f149d5\",\"content\":\"App都没做好\",\"vcontent\":\"\",\"creationTime\":\"2019-09-30 18:21:40\",\"isDelete\":false,\"isTop\":false,\"userImageUrl\":\"storage.360buyimg.com/i.imageUpload/6a645f3637346562346534376333373431343436353633363733333535_sma.jpg\",\"topped\":0,\"replies\":[{\"id\":521244046,\"commentId\":13281055337,\"content\":\"亲爱的米粉，非常抱歉给您带来不便。我们的产品均为全新未拆封官方正品，享受正规三包服务哦。我们的产品在出厂时都是经过严格质量检查流程，确保品质的。关于您反馈的APP问题，建议您更换时间段尝试使用。产品后期使用中如有疑问，建议您致电小米官方热线或访问小米供应商在线客服详细咨询，竭诚为您服务。感谢您对小米的支持，祝您生活愉快！\",\"pin\":\"小***能\",\"userClient\":103,\"userImage\":\"misc.360buyimg.com/user/myjd-2015/css/i/peisong.jpg\",\"ip\":\"120.195.56.79\",\"productId\":100003687197,\"replyList\":[],\"nickname\":\"小***能\",\"creationTime\":\"2019-10-01 10:36:44\",\"parentId\":0,\"targetId\":0,\"venderShopInfo\":{\"id\":1000004123,\"appName\":\"//mi.jd.com\",\"title\":\"小米京东自营旗舰店\",\"venderId\":1000004123}}],\"replyCount\":1,\"score\":1,\"title\":\"\",\"usefulVoteCount\":0,\"userClient\":2,\"anonymousFlag\":0,\"plusAvailable\":103,\"mobileVersion\":\"8.2.6\",\"productColor\":\"小米MI手环4深空蓝\",\"productSize\":\"\",\"textIntegral\":0,\"status\":1,\"referenceId\":\"100003687197\",\"referenceTime\":\"2019-09-30 03:12:18\",\"nickname\":\"萝莉控的忧伤\",\"replyCount2\":1,\"userImage\":\"storage.360buyimg.com/i.imageUpload/6a645f3637346562346534376333373431343436353633363733333535_sma.jpg\",\"orderId\":0,\"integral\":0,\"productSales\":\"[]\",\"referenceImage\":\"jfs/t1/79831/15/9128/176682/5d6e7844E8179da21/75e94bc5a76e0ebc.jpg\",\"referenceName\":\"小米手环4石墨黑 AI彩屏心率运动手环游泳姿势识别50米防水6轴传感器24小时高精准心率监测\",\"firstCategory\":652,\"secondCategory\":12345,\"thirdCategory\":12347,\"aesPin\":\"WKS_HFcYOdF8kSPGCNo6oTJhv2k1NvjVXZyCf3FuferGuqgAs7WCxRhTpeltrQDAEaZWh3OR7eZorJlHaFkrew\",\"days\":0,\"afterDays\":0},{\"id\":13138880093,\"guid\":\"0975c953-f59c-451b-9cdf-142f44050f7f\",\"content\":\"东西还是不错的，活动的时候买的。\",\"vcontent\":\"\",\"creationTime\":\"2019-08-20 23:41:05\",\"isDelete\":false,\"isTop\":false,\"userImageUrl\":\"misc.360buyimg.com/user/myjd-2015/css/i/peisong.jpg\",\"topped\":0,\"replies\":[{\"id\":506342366,\"commentId\":13138880093,\"content\":\"亲爱的米粉，我们的产品均为全新未拆封官方正品，享受正规三包服务哦。我们的产品在出厂时都是经过严格质量检查流程，确保品质的。产品后期使用中如有疑问，建议您致电小米官方热线或访问小米供应商在线客服详细咨询，竭诚为您服务。感谢您对小米的支持，祝您生活愉快！\",\"pin\":\"小***司\",\"userClient\":103,\"userImage\":\"misc.360buyimg.com/user/myjd-2015/css/i/peisong.jpg\",\"ip\":\"120.195.56.79\",\"productId\":100006188596,\"replyList\":[],\"nickname\":\"小***司\",\"creationTime\":\"2019-08-21 16:00:37\",\"parentId\":0,\"targetId\":0,\"venderShopInfo\":{\"id\":1000004123,\"appName\":\"//mi.jd.com\",\"title\":\"小米京东自营旗舰店\",\"venderId\":1000004123}}],\"replyCount\":5,\"score\":1,\"title\":\"\",\"usefulVoteCount\":10,\"userClient\":2,\"anonymousFlag\":0,\"plusAvailable\":201,\"mobileVersion\":\"8.2.0\",\"productColor\":\"小米手环4 石墨黑\",\"productSize\":\"\",\"textIntegral\":20,\"status\":1,\"referenceId\":\"100006188596\",\"referenceTime\":\"2019-08-05 11:02:02\",\"nickname\":\"j***8\",\"replyCount2\":7,\"userImage\":\"misc.360buyimg.com/user/myjd-2015/css/i/peisong.jpg\",\"orderId\":0,\"integral\":20,\"productSales\":\"[]\",\"referenceImage\":\"jfs/t1/79831/15/9128/176682/5d6e7844E8179da21/75e94bc5a76e0ebc.jpg\",\"referenceName\":\"小米手环4石墨黑 AI彩屏心率运动手环游泳姿势识别50米防水6轴传感器24小时高精准心率监测\",\"firstCategory\":652,\"secondCategory\":12345,\"thirdCategory\":12347,\"aesPin\":\"pCg4VJAlZR8Oczj4kaMmPO4GIEASLqxi2oKH9UZYKozm4waH6tk5lYuzPywJzgmHUEpNlXP6jBmeXlJy5Z-3vw\",\"days\":15,\"afterDays\":0},{\"id\":13013038335,\"guid\":\"4875087d-89d3-499a-9539-1c933c7f951c\",\"content\":\"显示监管俩字是什么意思\",\"creationTime\":\"2019-07-14 16:46:28\",\"isDelete\":false,\"isTop\":false,\"userImageUrl\":\"storage.360buyimg.com/i.imageUpload/6a645f3639643831636566653336363631353635363039303133303035_sma.jpg\",\"topped\":0,\"replies\":[{\"id\":491936339,\"commentId\":13013038335,\"content\":\"亲爱的米粉，咱们的产品均为全新未拆封官方正品，享受正规三包服务哦。我们的产品在出厂时都是经过严格质量检查流程，确保品质的。由于无法知晓您的产品准确出现的状况，建议您访问小米供应商在线客服提供相关图片信息详细咨询，竭诚为您服务。感谢您对小米的支持，祝您生活愉快！\",\"pin\":\"小***司\",\"userClient\":103,\"userImage\":\"misc.360buyimg.com/user/myjd-2015/css/i/peisong.jpg\",\"ip\":\"120.195.56.79\",\"productId\":100006188596,\"replyList\":[],\"nickname\":\"小***司\",\"creationTime\":\"2019-07-14 16:49:38\",\"parentId\":0,\"targetId\":0,\"venderShopInfo\":{\"id\":1000004123,\"appName\":\"//mi.jd.com\",\"title\":\"小米京东自营旗舰店\",\"venderId\":1000004123}}],\"replyCount\":15,\"score\":1,\"imageStatus\":1,\"title\":\"\",\"usefulVoteCount\":16,\"userClient\":4,\"discussionId\":573474393,\"imageCount\":2,\"anonymousFlag\":0,\"plusAvailable\":0,\"mobileVersion\":\"8.1.4\",\"images\":[{\"id\":891853074,\"imgUrl\":\"//img30.360buyimg.com/n0/s128x96_jfs/t1/65460/22/4524/55058/5d2aebe4E8e55f4e4/e4c29fc65b143d31.jpg\",\"imgTitle\":\"\"},{\"id\":891853075,\"imgUrl\":\"//img30.360buyimg.com/n0/s128x96_jfs/t1/48293/21/5156/52079/5d2aebe4E08d4c3f7/1e0c9e6a231a009f.jpg\",\"imgTitle\":\"\"}],\"mergeOrderStatus\":2,\"productColor\":\"小米手环4 石墨黑\",\"productSize\":\"\",\"textIntegral\":40,\"imageIntegral\":40,\"status\":1,\"referenceId\":\"100006188596\",\"referenceTime\":\"2019-07-08 14:53:13\",\"nickname\":\"渣男其实不是很渣\",\"replyCount2\":16,\"userImage\":\"storage.360buyimg.com/i.imageUpload/6a645f3639643831636566653336363631353635363039303133303035_sma.jpg\",\"orderId\":0,\"integral\":80,\"productSales\":\"[]\",\"referenceImage\":\"jfs/t1/79831/15/9128/176682/5d6e7844E8179da21/75e94bc5a76e0ebc.jpg\",\"referenceName\":\"小米手环4石墨黑 AI彩屏心率运动手环游泳姿势识别50米防水6轴传感器24小时高精准心率监测\",\"firstCategory\":652,\"secondCategory\":12345,\"thirdCategory\":12347,\"aesPin\":\"SOLGyKIEQ38blFq8YQ0_jFXSttlq_ouv_64Y51NXiHmcxKsCbGSNMMKazY7JF-xPVBdgZq-tDetlfYcJBIQOvw\",\"days\":6,\"afterDays\":0},{\"id\":12953282454,\"guid\":\"e4ab6ad8-4c2e-4da1-9a4e-3e5597d86c09\",\"content\":\"这是外观是全新的？一流品质！！\",\"creationTime\":\"2019-06-27 14:51:59\",\"isDelete\":false,\"isTop\":false,\"userImageUrl\":\"storage.360buyimg.com/i.imageUpload/6d6a383832353930313031343330353733313431333430_sma.jpg\",\"topped\":0,\"replies\":[{\"id\":485199734,\"commentId\":12953282454,\"content\":\"亲爱的米粉，咱们的产品均为全新未拆封官方正品，享受正规三包服务哦。我们的产品在出厂时都是经过严格质量检查流程，确保品质的。产品使用中如有疑问，建议您致电小米官方热线或访问小米供应商在线客服详细咨询，竭诚为您服务。感谢您对小米的支持，祝您生活愉快！\",\"pin\":\"小***司\",\"userClient\":103,\"userImage\":\"misc.360buyimg.com/user/myjd-2015/css/i/peisong.jpg\",\"ip\":\"120.195.56.79\",\"productId\":100006188596,\"replyList\":[],\"nickname\":\"小***司\",\"creationTime\":\"2019-06-27 15:30:50\",\"parentId\":0,\"targetId\":0,\"venderShopInfo\":{\"id\":1000004123,\"appName\":\"//mi.jd.com\",\"title\":\"小米京东自营旗舰店\",\"venderId\":1000004123}}],\"replyCount\":8,\"score\":1,\"imageStatus\":1,\"title\":\"\",\"usefulVoteCount\":24,\"userClient\":4,\"discussionId\":565598408,\"imageCount\":1,\"anonymousFlag\":0,\"plusAvailable\":103,\"mobileVersion\":\"8.1.2\",\"images\":[{\"id\":879638898,\"imgUrl\":\"//img30.360buyimg.com/n0/s128x96_jfs/t1/50621/39/3400/108838/5d14678fE98d2b6ff/0577f677d0815001.jpg\",\"imgTitle\":\"\"}],\"mergeOrderStatus\":0,\"productColor\":\"小米手环4 石墨黑\",\"productSize\":\"\",\"textIntegral\":20,\"imageIntegral\":20,\"status\":1,\"referenceId\":\"100006188596\",\"referenceTime\":\"2019-06-25 10:04:41\",\"nickname\":\"m***0\",\"replyCount2\":11,\"userImage\":\"storage.360buyimg.com/i.imageUpload/6d6a383832353930313031343330353733313431333430_sma.jpg\",\"orderId\":0,\"integral\":40,\"productSales\":\"[]\",\"referenceImage\":\"jfs/t1/79831/15/9128/176682/5d6e7844E8179da21/75e94bc5a76e0ebc.jpg\",\"referenceName\":\"小米手环4石墨黑 AI彩屏心率运动手环游泳姿势识别50米防水6轴传感器24小时高精准心率监测\",\"firstCategory\":652,\"secondCategory\":12345,\"thirdCategory\":12347,\"aesPin\":\"FmJ_3h1_v3rvkUi-6bl5NsXUatIyOpUjPflggyftFOJWAxPxNQRRbUKfvxjlXXJ4U31-5tvrTpcWH9jE8F6XpQ\",\"days\":2,\"afterDays\":0}]}'"
      ]
     },
     "execution_count": 102,
     "metadata": {},
     "output_type": "execute_result"
    }
   ],
   "source": [
    "the_page_json = the_page[27:-2]\n",
    "the_page_json"
   ]
  },
  {
   "cell_type": "markdown",
   "metadata": {},
   "source": [
    "### 京东评论爬虫被禁，如果显示空白，要等一会才行。"
   ]
  },
  {
   "cell_type": "code",
   "execution_count": null,
   "metadata": {},
   "outputs": [],
   "source": [
    "京东的评价好评，差评在URL区别在score=1-7上。"
   ]
  }
 ],
 "metadata": {
  "kernelspec": {
   "display_name": "Python 3",
   "language": "python",
   "name": "python3"
  },
  "language_info": {
   "codemirror_mode": {
    "name": "ipython",
    "version": 3
   },
   "file_extension": ".py",
   "mimetype": "text/x-python",
   "name": "python",
   "nbconvert_exporter": "python",
   "pygments_lexer": "ipython3",
   "version": "3.7.3"
  }
 },
 "nbformat": 4,
 "nbformat_minor": 2
}
