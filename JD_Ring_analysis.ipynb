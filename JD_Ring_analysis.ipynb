{
 "cells": [
  {
   "cell_type": "code",
   "execution_count": 28,
   "metadata": {},
   "outputs": [
    {
     "data": {
      "text/plain": [
       "(2262, 4)"
      ]
     },
     "execution_count": 28,
     "metadata": {},
     "output_type": "execute_result"
    }
   ],
   "source": [
    "import pandas as pd\n",
    "jd = pd.read_csv(\"JD_shouhuan_top2000_by_xiaoliang.csv\",header=None, names=[\"names\",\"prices\",\"stores\",\"links\",\"commit\"])\n",
    "jd = jd.drop_duplicates()\n",
    "jd = jd.drop([\"commit\"],axis =1)\n",
    "jd.shape"
   ]
  },
  {
   "cell_type": "code",
   "execution_count": 211,
   "metadata": {},
   "outputs": [
    {
     "data": {
      "text/html": [
       "<div>\n",
       "<style scoped>\n",
       "    .dataframe tbody tr th:only-of-type {\n",
       "        vertical-align: middle;\n",
       "    }\n",
       "\n",
       "    .dataframe tbody tr th {\n",
       "        vertical-align: top;\n",
       "    }\n",
       "\n",
       "    .dataframe thead th {\n",
       "        text-align: right;\n",
       "    }\n",
       "</style>\n",
       "<table border=\"1\" class=\"dataframe\">\n",
       "  <thead>\n",
       "    <tr style=\"text-align: right;\">\n",
       "      <th></th>\n",
       "      <th>names</th>\n",
       "      <th>prices</th>\n",
       "      <th>stores</th>\n",
       "      <th>links</th>\n",
       "      <th>price</th>\n",
       "      <th>name</th>\n",
       "      <th>store</th>\n",
       "      <th>link</th>\n",
       "    </tr>\n",
       "  </thead>\n",
       "  <tbody>\n",
       "    <tr>\n",
       "      <th>0</th>\n",
       "      <td>小米</td>\n",
       "      <td>['229.00']</td>\n",
       "      <td>['小米京东自营旗舰店']</td>\n",
       "      <td>['//item.jd.com/100003687193.html']</td>\n",
       "      <td>229.00</td>\n",
       "      <td>小米</td>\n",
       "      <td>小米京东自营旗舰店</td>\n",
       "      <td>//item.jd.com/100003687193.html</td>\n",
       "    </tr>\n",
       "    <tr>\n",
       "      <th>1</th>\n",
       "      <td>小米</td>\n",
       "      <td>['169.00']</td>\n",
       "      <td>['小米京东自营旗舰店']</td>\n",
       "      <td>['//item.jd.com/100006188596.html']</td>\n",
       "      <td>169.00</td>\n",
       "      <td>小米</td>\n",
       "      <td>小米京东自营旗舰店</td>\n",
       "      <td>//item.jd.com/100006188596.html</td>\n",
       "    </tr>\n",
       "    <tr>\n",
       "      <th>2</th>\n",
       "      <td>荣耀</td>\n",
       "      <td>['189.00']</td>\n",
       "      <td>['荣耀京东自营旗舰店']</td>\n",
       "      <td>['//item.jd.com/100006756254.html']</td>\n",
       "      <td>189.00</td>\n",
       "      <td>荣耀</td>\n",
       "      <td>荣耀京东自营旗舰店</td>\n",
       "      <td>//item.jd.com/100006756254.html</td>\n",
       "    </tr>\n",
       "    <tr>\n",
       "      <th>3</th>\n",
       "      <td>荣耀</td>\n",
       "      <td>['219.00']</td>\n",
       "      <td>['荣耀京东自营旗舰店']</td>\n",
       "      <td>['//item.jd.com/100006756282.html']</td>\n",
       "      <td>219.00</td>\n",
       "      <td>荣耀</td>\n",
       "      <td>荣耀京东自营旗舰店</td>\n",
       "      <td>//item.jd.com/100006756282.html</td>\n",
       "    </tr>\n",
       "    <tr>\n",
       "      <th>4</th>\n",
       "      <td>华为</td>\n",
       "      <td>['269.00']</td>\n",
       "      <td>['华为京东自营官方旗舰店']</td>\n",
       "      <td>['//item.jd.com/100003822240.html']</td>\n",
       "      <td>269.00</td>\n",
       "      <td>华为</td>\n",
       "      <td>华为京东自营官方旗舰店</td>\n",
       "      <td>//item.jd.com/100003822240.html</td>\n",
       "    </tr>\n",
       "  </tbody>\n",
       "</table>\n",
       "</div>"
      ],
      "text/plain": [
       "  names      prices           stores                                links  \\\n",
       "0    小米  ['229.00']    ['小米京东自营旗舰店']  ['//item.jd.com/100003687193.html']   \n",
       "1    小米  ['169.00']    ['小米京东自营旗舰店']  ['//item.jd.com/100006188596.html']   \n",
       "2    荣耀  ['189.00']    ['荣耀京东自营旗舰店']  ['//item.jd.com/100006756254.html']   \n",
       "3    荣耀  ['219.00']    ['荣耀京东自营旗舰店']  ['//item.jd.com/100006756282.html']   \n",
       "4    华为  ['269.00']  ['华为京东自营官方旗舰店']  ['//item.jd.com/100003822240.html']   \n",
       "\n",
       "    price name        store                             link  \n",
       "0  229.00   小米    小米京东自营旗舰店  //item.jd.com/100003687193.html  \n",
       "1  169.00   小米    小米京东自营旗舰店  //item.jd.com/100006188596.html  \n",
       "2  189.00   荣耀    荣耀京东自营旗舰店  //item.jd.com/100006756254.html  \n",
       "3  219.00   荣耀    荣耀京东自营旗舰店  //item.jd.com/100006756282.html  \n",
       "4  269.00   华为  华为京东自营官方旗舰店  //item.jd.com/100003822240.html  "
      ]
     },
     "execution_count": 211,
     "metadata": {},
     "output_type": "execute_result"
    }
   ],
   "source": [
    "for i in range(jd.shape[0]):\n",
    "    jd[\"price\"] = jd[\"prices\"].map(lambda x:\"\".join(x)[2:-2])\n",
    "    jd[\"name\"] = jd[\"names\"].map(lambda x:\"\".join(x))\n",
    "    jd[\"store\"] = jd[\"stores\"].map(lambda x:\"\".join(x)[2:-2])\n",
    "    jd[\"link\"] = jd[\"links\"].map(lambda x:\"\".join(x)[2:-2])\n",
    "#     jd = jd.applymap(lambda x:\"\".join(x)[2:-2])\n",
    "jd.head()"
   ]
  },
  {
   "cell_type": "code",
   "execution_count": 212,
   "metadata": {},
   "outputs": [],
   "source": [
    "\n",
    "jd =jd.drop(columns=[\"names\",\"prices\",\"stores\",\"links\"])\n",
    "jd.to_csv(\"JD_Belt_new.csv\",index=False)"
   ]
  },
  {
   "cell_type": "code",
   "execution_count": null,
   "metadata": {},
   "outputs": [],
   "source": []
  },
  {
   "cell_type": "code",
   "execution_count": 1,
   "metadata": {},
   "outputs": [],
   "source": [
    "import pandas as pd\n",
    "import re\n",
    "jd = pd.read_csv(\"JD_Belt_new.csv\")\n",
    "jd[\"brand\"] = jd[\"name\"].str.extract(r'(.*(小米|华为|荣耀|乐心|Keep|爱多|橙朗|学霸小天才|斯泰克|邦克凡|华米|卡丝拉狄|Fitbit|dido|Newmine|ADZ|DMDG|VOSSTR|瑞德罗曼|AMAZFIT|amazfit|特兰恩|脉迹|Amazfit|库宾|fitup|希比希|GOBE2|希娜塔|小寻|博之轮|普利邦|欧坦|360|NOERDEN|佳明|康普奇|全颂|真匠|全程通).*)',expand =False).iloc[:,1:2]"
   ]
  },
  {
   "cell_type": "code",
   "execution_count": 2,
   "metadata": {},
   "outputs": [
    {
     "data": {
      "text/html": [
       "<div>\n",
       "<style scoped>\n",
       "    .dataframe tbody tr th:only-of-type {\n",
       "        vertical-align: middle;\n",
       "    }\n",
       "\n",
       "    .dataframe tbody tr th {\n",
       "        vertical-align: top;\n",
       "    }\n",
       "\n",
       "    .dataframe thead th {\n",
       "        text-align: right;\n",
       "    }\n",
       "</style>\n",
       "<table border=\"1\" class=\"dataframe\">\n",
       "  <thead>\n",
       "    <tr style=\"text-align: right;\">\n",
       "      <th></th>\n",
       "      <th>price</th>\n",
       "      <th>name</th>\n",
       "      <th>store</th>\n",
       "      <th>link</th>\n",
       "      <th>brand</th>\n",
       "    </tr>\n",
       "  </thead>\n",
       "  <tbody>\n",
       "    <tr>\n",
       "      <th>0</th>\n",
       "      <td>229.0</td>\n",
       "      <td>小米</td>\n",
       "      <td>小米京东自营旗舰店</td>\n",
       "      <td>//item.jd.com/100003687193.html</td>\n",
       "      <td>小米</td>\n",
       "    </tr>\n",
       "    <tr>\n",
       "      <th>1</th>\n",
       "      <td>169.0</td>\n",
       "      <td>小米</td>\n",
       "      <td>小米京东自营旗舰店</td>\n",
       "      <td>//item.jd.com/100006188596.html</td>\n",
       "      <td>小米</td>\n",
       "    </tr>\n",
       "    <tr>\n",
       "      <th>2</th>\n",
       "      <td>189.0</td>\n",
       "      <td>荣耀</td>\n",
       "      <td>荣耀京东自营旗舰店</td>\n",
       "      <td>//item.jd.com/100006756254.html</td>\n",
       "      <td>荣耀</td>\n",
       "    </tr>\n",
       "    <tr>\n",
       "      <th>3</th>\n",
       "      <td>219.0</td>\n",
       "      <td>荣耀</td>\n",
       "      <td>荣耀京东自营旗舰店</td>\n",
       "      <td>//item.jd.com/100006756282.html</td>\n",
       "      <td>荣耀</td>\n",
       "    </tr>\n",
       "    <tr>\n",
       "      <th>4</th>\n",
       "      <td>269.0</td>\n",
       "      <td>华为</td>\n",
       "      <td>华为京东自营官方旗舰店</td>\n",
       "      <td>//item.jd.com/100003822240.html</td>\n",
       "      <td>华为</td>\n",
       "    </tr>\n",
       "  </tbody>\n",
       "</table>\n",
       "</div>"
      ],
      "text/plain": [
       "   price name        store                             link brand\n",
       "0  229.0   小米    小米京东自营旗舰店  //item.jd.com/100003687193.html    小米\n",
       "1  169.0   小米    小米京东自营旗舰店  //item.jd.com/100006188596.html    小米\n",
       "2  189.0   荣耀    荣耀京东自营旗舰店  //item.jd.com/100006756254.html    荣耀\n",
       "3  219.0   荣耀    荣耀京东自营旗舰店  //item.jd.com/100006756282.html    荣耀\n",
       "4  269.0   华为  华为京东自营官方旗舰店  //item.jd.com/100003822240.html    华为"
      ]
     },
     "execution_count": 2,
     "metadata": {},
     "output_type": "execute_result"
    }
   ],
   "source": [
    "jd.head()"
   ]
  },
  {
   "cell_type": "code",
   "execution_count": 21,
   "metadata": {},
   "outputs": [
    {
     "name": "stdout",
     "output_type": "stream",
     "text": [
      "100003687193\n"
     ]
    }
   ],
   "source": [
    "pa = \"//item.jd.com/100003687193.html\"\n",
    "a = re.search(\"(\\d+)\",pa)\n",
    "print(a.group())"
   ]
  },
  {
   "cell_type": "code",
   "execution_count": 22,
   "metadata": {},
   "outputs": [
    {
     "data": {
      "text/html": [
       "<div>\n",
       "<style scoped>\n",
       "    .dataframe tbody tr th:only-of-type {\n",
       "        vertical-align: middle;\n",
       "    }\n",
       "\n",
       "    .dataframe tbody tr th {\n",
       "        vertical-align: top;\n",
       "    }\n",
       "\n",
       "    .dataframe thead th {\n",
       "        text-align: right;\n",
       "    }\n",
       "</style>\n",
       "<table border=\"1\" class=\"dataframe\">\n",
       "  <thead>\n",
       "    <tr style=\"text-align: right;\">\n",
       "      <th></th>\n",
       "      <th>price</th>\n",
       "      <th>name</th>\n",
       "      <th>store</th>\n",
       "      <th>link</th>\n",
       "      <th>brand</th>\n",
       "      <th>sku_id</th>\n",
       "    </tr>\n",
       "  </thead>\n",
       "  <tbody>\n",
       "    <tr>\n",
       "      <th>0</th>\n",
       "      <td>229.0</td>\n",
       "      <td>小米</td>\n",
       "      <td>小米京东自营旗舰店</td>\n",
       "      <td>//item.jd.com/100003687193.html</td>\n",
       "      <td>小米</td>\n",
       "      <td>100003687193</td>\n",
       "    </tr>\n",
       "    <tr>\n",
       "      <th>1</th>\n",
       "      <td>169.0</td>\n",
       "      <td>小米</td>\n",
       "      <td>小米京东自营旗舰店</td>\n",
       "      <td>//item.jd.com/100006188596.html</td>\n",
       "      <td>小米</td>\n",
       "      <td>100006188596</td>\n",
       "    </tr>\n",
       "    <tr>\n",
       "      <th>2</th>\n",
       "      <td>189.0</td>\n",
       "      <td>荣耀</td>\n",
       "      <td>荣耀京东自营旗舰店</td>\n",
       "      <td>//item.jd.com/100006756254.html</td>\n",
       "      <td>荣耀</td>\n",
       "      <td>100006756254</td>\n",
       "    </tr>\n",
       "    <tr>\n",
       "      <th>3</th>\n",
       "      <td>219.0</td>\n",
       "      <td>荣耀</td>\n",
       "      <td>荣耀京东自营旗舰店</td>\n",
       "      <td>//item.jd.com/100006756282.html</td>\n",
       "      <td>荣耀</td>\n",
       "      <td>100006756282</td>\n",
       "    </tr>\n",
       "    <tr>\n",
       "      <th>4</th>\n",
       "      <td>269.0</td>\n",
       "      <td>华为</td>\n",
       "      <td>华为京东自营官方旗舰店</td>\n",
       "      <td>//item.jd.com/100003822240.html</td>\n",
       "      <td>华为</td>\n",
       "      <td>100003822240</td>\n",
       "    </tr>\n",
       "  </tbody>\n",
       "</table>\n",
       "</div>"
      ],
      "text/plain": [
       "   price name        store                             link brand  \\\n",
       "0  229.0   小米    小米京东自营旗舰店  //item.jd.com/100003687193.html    小米   \n",
       "1  169.0   小米    小米京东自营旗舰店  //item.jd.com/100006188596.html    小米   \n",
       "2  189.0   荣耀    荣耀京东自营旗舰店  //item.jd.com/100006756254.html    荣耀   \n",
       "3  219.0   荣耀    荣耀京东自营旗舰店  //item.jd.com/100006756282.html    荣耀   \n",
       "4  269.0   华为  华为京东自营官方旗舰店  //item.jd.com/100003822240.html    华为   \n",
       "\n",
       "         sku_id  \n",
       "0  100003687193  \n",
       "1  100006188596  \n",
       "2  100006756254  \n",
       "3  100006756282  \n",
       "4  100003822240  "
      ]
     },
     "execution_count": 22,
     "metadata": {},
     "output_type": "execute_result"
    }
   ],
   "source": [
    "jd[\"sku_id\"] = jd[\"link\"].map(lambda x :re.search(\"\\d+\",x).group())\n",
    "jd.head()"
   ]
  },
  {
   "cell_type": "code",
   "execution_count": 27,
   "metadata": {},
   "outputs": [],
   "source": [
    "jd.to_csv(\"JD_Belt_with_skuId.csv\",index=False)"
   ]
  },
  {
   "cell_type": "code",
   "execution_count": 23,
   "metadata": {},
   "outputs": [
    {
     "data": {
      "text/plain": [
       "(2262, 6)"
      ]
     },
     "execution_count": 23,
     "metadata": {},
     "output_type": "execute_result"
    }
   ],
   "source": [
    "jd.shape"
   ]
  },
  {
   "cell_type": "code",
   "execution_count": 24,
   "metadata": {},
   "outputs": [],
   "source": [
    "jd = jd.dropna()"
   ]
  },
  {
   "cell_type": "code",
   "execution_count": 25,
   "metadata": {},
   "outputs": [
    {
     "data": {
      "text/plain": [
       "(1174, 6)"
      ]
     },
     "execution_count": 25,
     "metadata": {},
     "output_type": "execute_result"
    }
   ],
   "source": [
    "jd.shape"
   ]
  },
  {
   "cell_type": "code",
   "execution_count": 26,
   "metadata": {},
   "outputs": [
    {
     "data": {
      "text/html": [
       "<div>\n",
       "<style scoped>\n",
       "    .dataframe tbody tr th:only-of-type {\n",
       "        vertical-align: middle;\n",
       "    }\n",
       "\n",
       "    .dataframe tbody tr th {\n",
       "        vertical-align: top;\n",
       "    }\n",
       "\n",
       "    .dataframe thead th {\n",
       "        text-align: right;\n",
       "    }\n",
       "</style>\n",
       "<table border=\"1\" class=\"dataframe\">\n",
       "  <thead>\n",
       "    <tr style=\"text-align: right;\">\n",
       "      <th></th>\n",
       "      <th>count</th>\n",
       "      <th>mean</th>\n",
       "      <th>std</th>\n",
       "      <th>min</th>\n",
       "      <th>25%</th>\n",
       "      <th>50%</th>\n",
       "      <th>75%</th>\n",
       "      <th>max</th>\n",
       "    </tr>\n",
       "  </thead>\n",
       "  <tbody>\n",
       "    <tr>\n",
       "      <th>price</th>\n",
       "      <td>1174.0</td>\n",
       "      <td>619.719123</td>\n",
       "      <td>1105.066306</td>\n",
       "      <td>1.0</td>\n",
       "      <td>99.0</td>\n",
       "      <td>258.5</td>\n",
       "      <td>569.0</td>\n",
       "      <td>18888.0</td>\n",
       "    </tr>\n",
       "  </tbody>\n",
       "</table>\n",
       "</div>"
      ],
      "text/plain": [
       "        count        mean          std  min   25%    50%    75%      max\n",
       "price  1174.0  619.719123  1105.066306  1.0  99.0  258.5  569.0  18888.0"
      ]
     },
     "execution_count": 26,
     "metadata": {},
     "output_type": "execute_result"
    }
   ],
   "source": [
    "jd.describe().T"
   ]
  },
  {
   "cell_type": "code",
   "execution_count": 9,
   "metadata": {},
   "outputs": [
    {
     "data": {
      "text/html": [
       "<div>\n",
       "<style scoped>\n",
       "    .dataframe tbody tr th:only-of-type {\n",
       "        vertical-align: middle;\n",
       "    }\n",
       "\n",
       "    .dataframe tbody tr th {\n",
       "        vertical-align: top;\n",
       "    }\n",
       "\n",
       "    .dataframe thead th {\n",
       "        text-align: right;\n",
       "    }\n",
       "</style>\n",
       "<table border=\"1\" class=\"dataframe\">\n",
       "  <thead>\n",
       "    <tr style=\"text-align: right;\">\n",
       "      <th></th>\n",
       "      <th>price</th>\n",
       "      <th>name</th>\n",
       "      <th>store</th>\n",
       "      <th>link</th>\n",
       "      <th>brand</th>\n",
       "    </tr>\n",
       "  </thead>\n",
       "  <tbody>\n",
       "    <tr>\n",
       "      <th>1635</th>\n",
       "      <td>599.0</td>\n",
       "      <td>fitup 智能运动</td>\n",
       "      <td>元次方数码专营店</td>\n",
       "      <td>//item.jd.com/43829185551.html</td>\n",
       "      <td>fitup</td>\n",
       "    </tr>\n",
       "    <tr>\n",
       "      <th>1499</th>\n",
       "      <td>1388.0</td>\n",
       "      <td>普利邦（pulibang） 女士智能</td>\n",
       "      <td>普利邦影音娱乐旗舰店</td>\n",
       "      <td>//item.jd.com/46193058080.html</td>\n",
       "      <td>普利邦</td>\n",
       "    </tr>\n",
       "    <tr>\n",
       "      <th>562</th>\n",
       "      <td>25.9</td>\n",
       "      <td>魅英（MEIYING） 适用于华为b3 b5智能</td>\n",
       "      <td>魅英旗舰店</td>\n",
       "      <td>//item.jd.com/49323585795.html</td>\n",
       "      <td>华为</td>\n",
       "    </tr>\n",
       "    <tr>\n",
       "      <th>722</th>\n",
       "      <td>368.0</td>\n",
       "      <td>DMDG 智能运动</td>\n",
       "      <td>大白熊专营店</td>\n",
       "      <td>//item.jd.com/40279510446.html</td>\n",
       "      <td>DMDG</td>\n",
       "    </tr>\n",
       "    <tr>\n",
       "      <th>1523</th>\n",
       "      <td>189.0</td>\n",
       "      <td>荣耀 华为</td>\n",
       "      <td>平天手机配件专营店</td>\n",
       "      <td>//item.jd.com/55337101398.html</td>\n",
       "      <td>华为</td>\n",
       "    </tr>\n",
       "    <tr>\n",
       "      <th>1981</th>\n",
       "      <td>258.0</td>\n",
       "      <td>能接打电话的智能手表儿童青少年学生智定位oppo华为多功男孩女孩通用</td>\n",
       "      <td>采趣户外专营店</td>\n",
       "      <td>//item.jd.com/54499471787.html</td>\n",
       "      <td>华为</td>\n",
       "    </tr>\n",
       "    <tr>\n",
       "      <th>355</th>\n",
       "      <td>1988.0</td>\n",
       "      <td>瑞德罗曼 智能手表监测血压心率心电彩屏多功能运动</td>\n",
       "      <td>瑞德罗曼数码旗舰店</td>\n",
       "      <td>//item.jd.com/45818203035.html</td>\n",
       "      <td>瑞德罗曼</td>\n",
       "    </tr>\n",
       "    <tr>\n",
       "      <th>1493</th>\n",
       "      <td>17.9</td>\n",
       "      <td>华为（HUAWEI） 荣耀</td>\n",
       "      <td>进多数码专营店</td>\n",
       "      <td>//item.jd.com/27464843556.html</td>\n",
       "      <td>华为</td>\n",
       "    </tr>\n",
       "    <tr>\n",
       "      <th>271</th>\n",
       "      <td>379.0</td>\n",
       "      <td>华为</td>\n",
       "      <td>梓豪数码专营店</td>\n",
       "      <td>//item.jd.com/43179449976.html</td>\n",
       "      <td>华为</td>\n",
       "    </tr>\n",
       "    <tr>\n",
       "      <th>1262</th>\n",
       "      <td>4599.0</td>\n",
       "      <td>橙朗 智能</td>\n",
       "      <td>物联达数码专营店</td>\n",
       "      <td>//item.jd.com/40373390204.html</td>\n",
       "      <td>橙朗</td>\n",
       "    </tr>\n",
       "    <tr>\n",
       "      <th>201</th>\n",
       "      <td>799.0</td>\n",
       "      <td>华为（HUAWEI） 荣耀Watch Magic智能手表男女运动</td>\n",
       "      <td>友信网络专营店</td>\n",
       "      <td>//item.jd.com/35470192855.html</td>\n",
       "      <td>华为</td>\n",
       "    </tr>\n",
       "    <tr>\n",
       "      <th>26</th>\n",
       "      <td>398.0</td>\n",
       "      <td>特兰恩（Tralean） 智能</td>\n",
       "      <td>精选贸易数码专营店</td>\n",
       "      <td>//item.jd.com/56272799350.html</td>\n",
       "      <td>特兰恩</td>\n",
       "    </tr>\n",
       "    <tr>\n",
       "      <th>972</th>\n",
       "      <td>1949.0</td>\n",
       "      <td>Fitbit 乐活（）健身</td>\n",
       "      <td>a axon_us海外官方旗舰店</td>\n",
       "      <td>//item.jd.com/1990913049.html</td>\n",
       "      <td>Fitbit</td>\n",
       "    </tr>\n",
       "    <tr>\n",
       "      <th>312</th>\n",
       "      <td>1488.0</td>\n",
       "      <td>华为（HUAWEI） 新款WATCHGT智能手表持久续航移动nfc公交支付</td>\n",
       "      <td>华为果珈专卖店</td>\n",
       "      <td>//item.jd.com/36974808485.html</td>\n",
       "      <td>华为</td>\n",
       "    </tr>\n",
       "    <tr>\n",
       "      <th>405</th>\n",
       "      <td>2680.0</td>\n",
       "      <td>橙朗 智能</td>\n",
       "      <td>物联达数码专营店</td>\n",
       "      <td>//item.jd.com/26017346449.html</td>\n",
       "      <td>橙朗</td>\n",
       "    </tr>\n",
       "    <tr>\n",
       "      <th>121</th>\n",
       "      <td>398.0</td>\n",
       "      <td>青少年智能电话手表手机4g全网通可视频通话高初中学生通用小米华为苹果成人防水防摔多功能gps定位</td>\n",
       "      <td>拓珀达数码专营店</td>\n",
       "      <td>//item.jd.com/55954713571.html</td>\n",
       "      <td>华为</td>\n",
       "    </tr>\n",
       "    <tr>\n",
       "      <th>1762</th>\n",
       "      <td>139.0</td>\n",
       "      <td>华为荣耀</td>\n",
       "      <td>荣耀进多专卖店</td>\n",
       "      <td>//item.jd.com/55017604786.html</td>\n",
       "      <td>华为</td>\n",
       "    </tr>\n",
       "    <tr>\n",
       "      <th>1424</th>\n",
       "      <td>199.0</td>\n",
       "      <td>乐心（HIIN） 彩屏智能运动</td>\n",
       "      <td>金久晖手表专营店</td>\n",
       "      <td>//item.jd.com/28999612731.html</td>\n",
       "      <td>乐心</td>\n",
       "    </tr>\n",
       "    <tr>\n",
       "      <th>303</th>\n",
       "      <td>1438.0</td>\n",
       "      <td>【直降100元】华为手表GT WATCHGT 户外运动手表心率睡眠检测NFC支付两周续航智能</td>\n",
       "      <td>华为中联智能专卖店</td>\n",
       "      <td>//item.jd.com/45768062436.html</td>\n",
       "      <td>华为</td>\n",
       "    </tr>\n",
       "    <tr>\n",
       "      <th>2109</th>\n",
       "      <td>19.5</td>\n",
       "      <td>小米（MI）</td>\n",
       "      <td>圆迈智能旗舰店</td>\n",
       "      <td>//item.jd.com/10469100380.html</td>\n",
       "      <td>小米</td>\n",
       "    </tr>\n",
       "  </tbody>\n",
       "</table>\n",
       "</div>"
      ],
      "text/plain": [
       "       price                                              name  \\\n",
       "1635   599.0                                        fitup 智能运动   \n",
       "1499  1388.0                                普利邦（pulibang） 女士智能   \n",
       "562     25.9                          魅英（MEIYING） 适用于华为b3 b5智能   \n",
       "722    368.0                                         DMDG 智能运动   \n",
       "1523   189.0                                             荣耀 华为   \n",
       "1981   258.0                能接打电话的智能手表儿童青少年学生智定位oppo华为多功男孩女孩通用   \n",
       "355   1988.0                          瑞德罗曼 智能手表监测血压心率心电彩屏多功能运动   \n",
       "1493    17.9                                     华为（HUAWEI） 荣耀   \n",
       "271    379.0                                                华为   \n",
       "1262  4599.0                                             橙朗 智能   \n",
       "201    799.0                  华为（HUAWEI） 荣耀Watch Magic智能手表男女运动   \n",
       "26     398.0                                   特兰恩（Tralean） 智能   \n",
       "972   1949.0                                     Fitbit 乐活（）健身   \n",
       "312   1488.0             华为（HUAWEI） 新款WATCHGT智能手表持久续航移动nfc公交支付   \n",
       "405   2680.0                                             橙朗 智能   \n",
       "121    398.0  青少年智能电话手表手机4g全网通可视频通话高初中学生通用小米华为苹果成人防水防摔多功能gps定位   \n",
       "1762   139.0                                              华为荣耀   \n",
       "1424   199.0                                   乐心（HIIN） 彩屏智能运动   \n",
       "303   1438.0    【直降100元】华为手表GT WATCHGT 户外运动手表心率睡眠检测NFC支付两周续航智能   \n",
       "2109    19.5                                            小米（MI）   \n",
       "\n",
       "                 store                            link   brand  \n",
       "1635          元次方数码专营店  //item.jd.com/43829185551.html   fitup  \n",
       "1499        普利邦影音娱乐旗舰店  //item.jd.com/46193058080.html     普利邦  \n",
       "562              魅英旗舰店  //item.jd.com/49323585795.html      华为  \n",
       "722             大白熊专营店  //item.jd.com/40279510446.html    DMDG  \n",
       "1523         平天手机配件专营店  //item.jd.com/55337101398.html      华为  \n",
       "1981           采趣户外专营店  //item.jd.com/54499471787.html      华为  \n",
       "355          瑞德罗曼数码旗舰店  //item.jd.com/45818203035.html    瑞德罗曼  \n",
       "1493           进多数码专营店  //item.jd.com/27464843556.html      华为  \n",
       "271            梓豪数码专营店  //item.jd.com/43179449976.html      华为  \n",
       "1262          物联达数码专营店  //item.jd.com/40373390204.html      橙朗  \n",
       "201            友信网络专营店  //item.jd.com/35470192855.html      华为  \n",
       "26           精选贸易数码专营店  //item.jd.com/56272799350.html     特兰恩  \n",
       "972   a axon_us海外官方旗舰店   //item.jd.com/1990913049.html  Fitbit  \n",
       "312            华为果珈专卖店  //item.jd.com/36974808485.html      华为  \n",
       "405           物联达数码专营店  //item.jd.com/26017346449.html      橙朗  \n",
       "121           拓珀达数码专营店  //item.jd.com/55954713571.html      华为  \n",
       "1762           荣耀进多专卖店  //item.jd.com/55017604786.html      华为  \n",
       "1424          金久晖手表专营店  //item.jd.com/28999612731.html      乐心  \n",
       "303          华为中联智能专卖店  //item.jd.com/45768062436.html      华为  \n",
       "2109           圆迈智能旗舰店  //item.jd.com/10469100380.html      小米  "
      ]
     },
     "execution_count": 9,
     "metadata": {},
     "output_type": "execute_result"
    }
   ],
   "source": [
    "jd.loc[jd[\"brand\"]==\"荣耀\",\"brand\"] =\"华为\"\n",
    "#jd.loc[jd[\"brand\"]==\"荣耀\"]\n",
    "jd.sample(20)"
   ]
  },
  {
   "cell_type": "code",
   "execution_count": 17,
   "metadata": {},
   "outputs": [],
   "source": [
    "jd_all = jd.groupby([\"brand\"]).agg({\"price\":['max','min','mean'],\"brand\":['count']})\n",
    "jd_all_max =jd_all[\"price\"][\"max\"].sort_values(ascending = False)[:40]"
   ]
  },
  {
   "cell_type": "code",
   "execution_count": 18,
   "metadata": {},
   "outputs": [],
   "source": [
    "jd_all_min = jd_all[\"price\"][\"min\"].sort_values(ascending = False)[:40]"
   ]
  },
  {
   "cell_type": "code",
   "execution_count": 19,
   "metadata": {},
   "outputs": [],
   "source": [
    "jd_all_mean = jd_all[\"price\"][\"mean\"].sort_values(ascending = False)[:40]"
   ]
  },
  {
   "cell_type": "code",
   "execution_count": 20,
   "metadata": {},
   "outputs": [],
   "source": [
    "jd_all_sort =jd_all[\"brand\"][\"count\"].sort_values(ascending = False)[:40]"
   ]
  },
  {
   "cell_type": "code",
   "execution_count": 21,
   "metadata": {},
   "outputs": [],
   "source": [
    "jd_huawei = jd.loc[jd[\"brand\"]==\"华为\"]\n",
    "jd_xiaomi = jd.loc[jd[\"brand\"]==\"小米\"]\n"
   ]
  },
  {
   "cell_type": "code",
   "execution_count": 22,
   "metadata": {},
   "outputs": [],
   "source": [
    "jd_huawei_price = jd_huawei[\"price\"].sort_values(ascending = False)"
   ]
  },
  {
   "cell_type": "code",
   "execution_count": 23,
   "metadata": {},
   "outputs": [
    {
     "data": {
      "text/html": [
       "<div>\n",
       "<style scoped>\n",
       "    .dataframe tbody tr th:only-of-type {\n",
       "        vertical-align: middle;\n",
       "    }\n",
       "\n",
       "    .dataframe tbody tr th {\n",
       "        vertical-align: top;\n",
       "    }\n",
       "\n",
       "    .dataframe thead th {\n",
       "        text-align: right;\n",
       "    }\n",
       "</style>\n",
       "<table border=\"1\" class=\"dataframe\">\n",
       "  <thead>\n",
       "    <tr style=\"text-align: right;\">\n",
       "      <th></th>\n",
       "      <th>price</th>\n",
       "      <th>name</th>\n",
       "      <th>store</th>\n",
       "      <th>link</th>\n",
       "      <th>brand</th>\n",
       "    </tr>\n",
       "  </thead>\n",
       "  <tbody>\n",
       "    <tr>\n",
       "      <th>2</th>\n",
       "      <td>189.0</td>\n",
       "      <td>荣耀</td>\n",
       "      <td>荣耀京东自营旗舰店</td>\n",
       "      <td>//item.jd.com/100006756254.html</td>\n",
       "      <td>华为</td>\n",
       "    </tr>\n",
       "    <tr>\n",
       "      <th>3</th>\n",
       "      <td>219.0</td>\n",
       "      <td>荣耀</td>\n",
       "      <td>荣耀京东自营旗舰店</td>\n",
       "      <td>//item.jd.com/100006756282.html</td>\n",
       "      <td>华为</td>\n",
       "    </tr>\n",
       "    <tr>\n",
       "      <th>4</th>\n",
       "      <td>269.0</td>\n",
       "      <td>华为</td>\n",
       "      <td>华为京东自营官方旗舰店</td>\n",
       "      <td>//item.jd.com/100003822240.html</td>\n",
       "      <td>华为</td>\n",
       "    </tr>\n",
       "    <tr>\n",
       "      <th>5</th>\n",
       "      <td>898.0</td>\n",
       "      <td>华为</td>\n",
       "      <td>华为京东自营官方旗舰店</td>\n",
       "      <td>//item.jd.com/100006360444.html</td>\n",
       "      <td>华为</td>\n",
       "    </tr>\n",
       "    <tr>\n",
       "      <th>7</th>\n",
       "      <td>179.0</td>\n",
       "      <td>荣耀</td>\n",
       "      <td>荣耀京东自营旗舰店</td>\n",
       "      <td>//item.jd.com/100000018890.html</td>\n",
       "      <td>华为</td>\n",
       "    </tr>\n",
       "  </tbody>\n",
       "</table>\n",
       "</div>"
      ],
      "text/plain": [
       "   price name        store                             link brand\n",
       "2  189.0   荣耀    荣耀京东自营旗舰店  //item.jd.com/100006756254.html    华为\n",
       "3  219.0   荣耀    荣耀京东自营旗舰店  //item.jd.com/100006756282.html    华为\n",
       "4  269.0   华为  华为京东自营官方旗舰店  //item.jd.com/100003822240.html    华为\n",
       "5  898.0   华为  华为京东自营官方旗舰店  //item.jd.com/100006360444.html    华为\n",
       "7  179.0   荣耀    荣耀京东自营旗舰店  //item.jd.com/100000018890.html    华为"
      ]
     },
     "execution_count": 23,
     "metadata": {},
     "output_type": "execute_result"
    }
   ],
   "source": [
    "jd_huawei.head()"
   ]
  },
  {
   "cell_type": "code",
   "execution_count": 40,
   "metadata": {},
   "outputs": [
    {
     "data": {
      "text/html": [
       "<div>\n",
       "<style scoped>\n",
       "    .dataframe tbody tr th:only-of-type {\n",
       "        vertical-align: middle;\n",
       "    }\n",
       "\n",
       "    .dataframe tbody tr th {\n",
       "        vertical-align: top;\n",
       "    }\n",
       "\n",
       "    .dataframe thead th {\n",
       "        text-align: right;\n",
       "    }\n",
       "</style>\n",
       "<table border=\"1\" class=\"dataframe\">\n",
       "  <thead>\n",
       "    <tr style=\"text-align: right;\">\n",
       "      <th></th>\n",
       "      <th>count</th>\n",
       "      <th>mean</th>\n",
       "      <th>std</th>\n",
       "      <th>min</th>\n",
       "      <th>25%</th>\n",
       "      <th>50%</th>\n",
       "      <th>75%</th>\n",
       "      <th>max</th>\n",
       "    </tr>\n",
       "  </thead>\n",
       "  <tbody>\n",
       "    <tr>\n",
       "      <th>price</th>\n",
       "      <td>435.0</td>\n",
       "      <td>449.480644</td>\n",
       "      <td>1049.418132</td>\n",
       "      <td>9.9</td>\n",
       "      <td>78.5</td>\n",
       "      <td>189.0</td>\n",
       "      <td>432.0</td>\n",
       "      <td>18888.0</td>\n",
       "    </tr>\n",
       "  </tbody>\n",
       "</table>\n",
       "</div>"
      ],
      "text/plain": [
       "       count        mean          std  min   25%    50%    75%      max\n",
       "price  435.0  449.480644  1049.418132  9.9  78.5  189.0  432.0  18888.0"
      ]
     },
     "execution_count": 40,
     "metadata": {},
     "output_type": "execute_result"
    }
   ],
   "source": [
    "jd_huawei.describe().T"
   ]
  },
  {
   "cell_type": "code",
   "execution_count": 25,
   "metadata": {},
   "outputs": [
    {
     "data": {
      "text/html": [
       "<div>\n",
       "<style scoped>\n",
       "    .dataframe tbody tr th:only-of-type {\n",
       "        vertical-align: middle;\n",
       "    }\n",
       "\n",
       "    .dataframe tbody tr th {\n",
       "        vertical-align: top;\n",
       "    }\n",
       "\n",
       "    .dataframe thead th {\n",
       "        text-align: right;\n",
       "    }\n",
       "</style>\n",
       "<table border=\"1\" class=\"dataframe\">\n",
       "  <thead>\n",
       "    <tr style=\"text-align: right;\">\n",
       "      <th></th>\n",
       "      <th>price</th>\n",
       "    </tr>\n",
       "  </thead>\n",
       "  <tbody>\n",
       "    <tr>\n",
       "      <th>count</th>\n",
       "      <td>191.000000</td>\n",
       "    </tr>\n",
       "    <tr>\n",
       "      <th>mean</th>\n",
       "      <td>153.033927</td>\n",
       "    </tr>\n",
       "    <tr>\n",
       "      <th>std</th>\n",
       "      <td>192.568898</td>\n",
       "    </tr>\n",
       "    <tr>\n",
       "      <th>min</th>\n",
       "      <td>4.700000</td>\n",
       "    </tr>\n",
       "    <tr>\n",
       "      <th>25%</th>\n",
       "      <td>19.000000</td>\n",
       "    </tr>\n",
       "    <tr>\n",
       "      <th>50%</th>\n",
       "      <td>69.000000</td>\n",
       "    </tr>\n",
       "    <tr>\n",
       "      <th>75%</th>\n",
       "      <td>229.000000</td>\n",
       "    </tr>\n",
       "    <tr>\n",
       "      <th>max</th>\n",
       "      <td>1279.000000</td>\n",
       "    </tr>\n",
       "  </tbody>\n",
       "</table>\n",
       "</div>"
      ],
      "text/plain": [
       "             price\n",
       "count   191.000000\n",
       "mean    153.033927\n",
       "std     192.568898\n",
       "min       4.700000\n",
       "25%      19.000000\n",
       "50%      69.000000\n",
       "75%     229.000000\n",
       "max    1279.000000"
      ]
     },
     "execution_count": 25,
     "metadata": {},
     "output_type": "execute_result"
    }
   ],
   "source": [
    "jd_xiaomi.describe()"
   ]
  },
  {
   "cell_type": "code",
   "execution_count": 77,
   "metadata": {},
   "outputs": [
    {
     "data": {
      "text/plain": [
       "'C:\\\\Users\\\\hali\\\\Desktop\\\\京东手环\\\\所有手环品牌价格分布top40.html'"
      ]
     },
     "execution_count": 77,
     "metadata": {},
     "output_type": "execute_result"
    }
   ],
   "source": [
    "\n",
    "from pyecharts import options as opts\n",
    "from pyecharts.charts import Bar\n",
    "\n",
    "x,y = jd_all_mean.index,jd_all_mean.values.tolist()\n",
    "\n",
    "c = (\n",
    "    Bar()\n",
    "    .add_xaxis(x.tolist())\n",
    "    .add_yaxis(\"所有手环品牌平均价格分布top40\",y,  markpoint_opts=opts.MarkPointOpts(\n",
    "                data=[opts.MarkPointItem(name=\"自定义标记点\", coord=[x[19], y[19]], value=int(y[19]))]\n",
    "            ),\n",
    "              )                                                       \n",
    "    .set_series_opts(label_opts=opts.LabelOpts(is_show=False))\n",
    "    \n",
    "    .set_global_opts(\n",
    "        title_opts=opts.TitleOpts(title=\"所有手环品牌平均价格分布top40\"),\n",
    "        xaxis_opts=opts.AxisOpts(\n",
    "            axistick_opts=opts.AxisTickOpts(is_align_with_label=False),\n",
    "            axislabel_opts={\"rotate\":-90},\n",
    "            is_scale=False,\n",
    "            boundary_gap=False,\n",
    "        ),\n",
    "        \n",
    "  \n",
    "    )\n",
    "   \n",
    ")\n",
    "c.render(\"所有手环品牌价格分布top40.html\")"
   ]
  },
  {
   "cell_type": "code",
   "execution_count": 27,
   "metadata": {},
   "outputs": [
    {
     "data": {
      "text/plain": [
       "'C:\\\\Users\\\\hali\\\\Desktop\\\\京东手环\\\\所有手环品牌数量分布_pie.html'"
      ]
     },
     "execution_count": 27,
     "metadata": {},
     "output_type": "execute_result"
    }
   ],
   "source": [
    "from pyecharts import options as opts\n",
    "from pyecharts.charts import Page, Pie\n",
    "\n",
    "c = (\n",
    "    Pie()\n",
    "    .add(\n",
    "        \"\",\n",
    "        [list(z) for z in zip(jd_all_sort.index.tolist(),jd_all_sort.values.tolist())],\n",
    "        radius=[\"40%\", \"75%\"], center = [\"60%\", \"55%\"]\n",
    "    )\n",
    "    .set_global_opts(\n",
    "        title_opts=opts.TitleOpts(title=\"Pie-Radius\"),\n",
    "        legend_opts=opts.LegendOpts(\n",
    "            orient=\"vertical\", pos_top=\"15%\", pos_left=\"2%\"\n",
    "        ),\n",
    "    )\n",
    "    .set_series_opts(label_opts=opts.LabelOpts(formatter=\"{b}: {c}\"))\n",
    ")\n",
    "c.render(\"所有手环品牌数量分布_pie.html\")"
   ]
  },
  {
   "cell_type": "code",
   "execution_count": null,
   "metadata": {},
   "outputs": [],
   "source": []
  },
  {
   "cell_type": "code",
   "execution_count": 32,
   "metadata": {},
   "outputs": [
    {
     "data": {
      "text/plain": [
       "'C:\\\\Users\\\\hali\\\\Desktop\\\\京东手环\\\\所有品牌平均价格分布top40.html'"
      ]
     },
     "execution_count": 32,
     "metadata": {},
     "output_type": "execute_result"
    }
   ],
   "source": [
    "import pyecharts.options as opts\n",
    "#from pyecharts.faker import  Faker\n",
    "from pyecharts.charts import Line\n",
    "\n",
    "d = (\n",
    "    Line()\n",
    "    .add_xaxis(jd_all_mean.index.tolist())\n",
    "    .add_yaxis(\"\", jd_all_mean.values.tolist(), is_smooth=True,\n",
    "               markline_opts=opts.MarkLineOpts(data=[opts.MarkLineItem(type_=\"average\")]),)\n",
    "    .set_series_opts(\n",
    "        areastyle_opts=opts.AreaStyleOpts(opacity=0.5),\n",
    "        label_opts=opts.LabelOpts(is_show=False),\n",
    "    )\n",
    "    .set_global_opts(\n",
    "        title_opts=opts.TitleOpts(title=\"所有品牌平均价格分布top40\"),\n",
    "        xaxis_opts=opts.AxisOpts(\n",
    "            axistick_opts=opts.AxisTickOpts(is_align_with_label=True),\n",
    "            axislabel_opts={\"rotate\":45},\n",
    "            is_scale=False,\n",
    "            boundary_gap=False,\n",
    "        ),\n",
    "    )\n",
    "    )\n",
    "d.render(\"所有品牌平均价格分布top40.html\")"
   ]
  },
  {
   "cell_type": "code",
   "execution_count": 33,
   "metadata": {},
   "outputs": [
    {
     "data": {
      "text/plain": [
       "'C:\\\\Users\\\\hali\\\\Desktop\\\\京东手环\\\\华为手环价格分布top40.html'"
      ]
     },
     "execution_count": 33,
     "metadata": {},
     "output_type": "execute_result"
    }
   ],
   "source": [
    "import pyecharts.options as opts\n",
    "#from pyecharts.faker import  Faker\n",
    "from pyecharts.charts import Line\n",
    "\n",
    "d = (\n",
    "    Line()\n",
    "    .add_xaxis(jd_huawei[\"price\"].index.tolist())\n",
    "    .add_yaxis(\"\", jd_huawei[\"price\"].values.tolist(), is_smooth=True,\n",
    "               markline_opts=opts.MarkLineOpts(data=[opts.MarkLineItem(type_=\"average\")]),)\n",
    "    .set_series_opts(\n",
    "        areastyle_opts=opts.AreaStyleOpts(opacity=0.5),\n",
    "        label_opts=opts.LabelOpts(is_show=False),\n",
    "    )\n",
    "    .set_global_opts(\n",
    "        title_opts=opts.TitleOpts(title=\"华为手环价格分布top40\"),\n",
    "        xaxis_opts=opts.AxisOpts(\n",
    "            axistick_opts=opts.AxisTickOpts(is_align_with_label=True),\n",
    "            axislabel_opts={\"rotate\":45},\n",
    "            is_scale=False,\n",
    "            boundary_gap=False,\n",
    "        ),\n",
    "    )\n",
    "    )\n",
    "d.render(\"华为手环价格分布top40.html\")"
   ]
  },
  {
   "cell_type": "code",
   "execution_count": 34,
   "metadata": {},
   "outputs": [
    {
     "data": {
      "text/plain": [
       "'C:\\\\Users\\\\hali\\\\Desktop\\\\京东手环\\\\小米手环价格分布top40.html'"
      ]
     },
     "execution_count": 34,
     "metadata": {},
     "output_type": "execute_result"
    }
   ],
   "source": [
    "import pyecharts.options as opts\n",
    "#from pyecharts.faker import  Faker\n",
    "from pyecharts.charts import Line\n",
    "\n",
    "d = (\n",
    "    Line()\n",
    "    .add_xaxis(jd_xiaomi[\"price\"].index.tolist())\n",
    "    .add_yaxis(\"\", jd_xiaomi[\"price\"].values.tolist(), is_smooth=True,\n",
    "               markline_opts=opts.MarkLineOpts(data=[opts.MarkLineItem(type_=\"average\")]),)\n",
    "    .set_series_opts(\n",
    "        areastyle_opts=opts.AreaStyleOpts(opacity=0.5),\n",
    "        label_opts=opts.LabelOpts(is_show=False),\n",
    "    )\n",
    "    .set_global_opts(\n",
    "        title_opts=opts.TitleOpts(title=\"小米手环价格分布top40\"),\n",
    "        xaxis_opts=opts.AxisOpts(\n",
    "            axistick_opts=opts.AxisTickOpts(is_align_with_label=True),\n",
    "            axislabel_opts={\"rotate\":45},\n",
    "            is_scale=False,\n",
    "            boundary_gap=False,\n",
    "        ),\n",
    "    )\n",
    "    )\n",
    "d.render(\"小米手环价格分布top40.html\")"
   ]
  },
  {
   "cell_type": "code",
   "execution_count": null,
   "metadata": {},
   "outputs": [],
   "source": []
  },
  {
   "cell_type": "code",
   "execution_count": null,
   "metadata": {},
   "outputs": [],
   "source": []
  }
 ],
 "metadata": {
  "kernelspec": {
   "display_name": "Python 3",
   "language": "python",
   "name": "python3"
  },
  "language_info": {
   "codemirror_mode": {
    "name": "ipython",
    "version": 3
   },
   "file_extension": ".py",
   "mimetype": "text/x-python",
   "name": "python",
   "nbconvert_exporter": "python",
   "pygments_lexer": "ipython3",
   "version": "3.7.3"
  }
 },
 "nbformat": 4,
 "nbformat_minor": 2
}
